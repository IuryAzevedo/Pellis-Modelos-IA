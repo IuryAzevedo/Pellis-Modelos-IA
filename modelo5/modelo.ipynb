{
 "cells": [
  {
   "cell_type": "code",
   "execution_count": 21,
   "metadata": {},
   "outputs": [],
   "source": [
    "import torch\n",
    "import torch.nn as nn\n",
    "import torch.optim as optim\n",
    "from torch.utils.data import DataLoader, random_split, WeightedRandomSampler\n",
    "import torchvision.transforms as transforms\n",
    "import torchvision.datasets as datasets\n",
    "from torchvision.models import resnet50, ResNet50_Weights, ConvNeXt_Tiny_Weights\n",
    "from sklearn.metrics import accuracy_score, precision_score, recall_score, f1_score, confusion_matrix\n",
    "import seaborn as sns\n",
    "import matplotlib.pyplot as plt\n",
    "from pathlib import Path\n",
    "import numpy as np\n",
    "import os\n",
    "from typing import Dict\n",
    "from torchvision.models import wide_resnet50_2, Wide_ResNet50_2_Weights\n",
    "import shutil"
   ]
  },
  {
   "cell_type": "code",
   "execution_count": 22,
   "metadata": {},
   "outputs": [],
   "source": [
    "# Data Augmentation for the training dataset\n",
    "train_transforms = transforms.Compose([\n",
    "    transforms.Resize((256, 256)),\n",
    "    # transforms.CenterCrop(224),\n",
    "    transforms.ToTensor(),\n",
    "    transforms.Normalize([0.485, 0.456, 0.406], [0.229, 0.224, 0.225])\n",
    "])\n",
    "\n",
    "# Data Augmentation for the test dataset\n",
    "test_transforms = transforms.Compose([\n",
    "    transforms.Resize((256, 256)),\n",
    "    # transforms.CenterCrop(224),\n",
    "    transforms.ToTensor(),\n",
    "    transforms.Normalize([0.485, 0.456, 0.406], [0.229, 0.224, 0.225])\n",
    "])"
   ]
  },
  {
   "cell_type": "code",
   "execution_count": 23,
   "metadata": {},
   "outputs": [],
   "source": [
    "train_dataset = datasets.ImageFolder(root='data/pellis_training/train', transform=train_transforms)\n",
    "test_dataset = datasets.ImageFolder(root='data/pellis_training/test', transform=test_transforms)"
   ]
  },
  {
   "cell_type": "code",
   "execution_count": 24,
   "metadata": {},
   "outputs": [
    {
     "ename": "ValueError",
     "evalue": "'a' cannot be empty unless no samples are taken",
     "output_type": "error",
     "traceback": [
      "\u001b[1;31m------------------------------------------------------------------------\u001b[0m",
      "\u001b[1;31mValueError\u001b[0m                             Traceback (most recent call last)",
      "Cell \u001b[1;32mIn[24], line 13\u001b[0m\n\u001b[0;32m     10\u001b[0m train_images \u001b[38;5;241m=\u001b[39m \u001b[38;5;28mlist\u001b[39m(train_dir_path\u001b[38;5;241m.\u001b[39mrglob(\u001b[38;5;124m'\u001b[39m\u001b[38;5;124m*/*.jpg\u001b[39m\u001b[38;5;124m'\u001b[39m))\n\u001b[0;32m     12\u001b[0m \u001b[38;5;66;03m# Seleciona uma imagem aleatoriamente\u001b[39;00m\n\u001b[1;32m---> 13\u001b[0m img_path \u001b[38;5;241m=\u001b[39m np\u001b[38;5;241m.\u001b[39mrandom\u001b[38;5;241m.\u001b[39mchoice(train_images)\n\u001b[0;32m     15\u001b[0m \u001b[38;5;66;03m# Carrega a imagem\u001b[39;00m\n\u001b[0;32m     16\u001b[0m img \u001b[38;5;241m=\u001b[39m Image\u001b[38;5;241m.\u001b[39mopen(img_path)\n",
      "File \u001b[1;32mnumpy\\\\random\\\\mtrand.pyx:951\u001b[0m, in \u001b[0;36mnumpy.random.mtrand.RandomState.choice\u001b[1;34m()\u001b[0m\n",
      "\u001b[1;31mValueError\u001b[0m: 'a' cannot be empty unless no samples are taken"
     ]
    }
   ],
   "source": [
    "from PIL import Image\n",
    "import matplotlib.pyplot as plt\n",
    "import numpy as np\n",
    "from pathlib import Path\n",
    "\n",
    "# Caminho para o diretório de treino\n",
    "train_dir_path = Path('/kaggle/input/dataset-original/pellis_training/train')\n",
    "\n",
    "# Lista de imagens no diretório de treino\n",
    "train_images = list(train_dir_path.rglob('*/*.jpg'))\n",
    "\n",
    "# Seleciona uma imagem aleatoriamente\n",
    "img_path = np.random.choice(train_images)\n",
    "\n",
    "# Carrega a imagem\n",
    "img = Image.open(img_path)\n",
    "\n",
    "# Obtendo o nome da classe\n",
    "class_name = img_path.parent.name\n",
    "\n",
    "# Exibe a imagem\n",
    "plt.imshow(img)\n",
    "plt.title(class_name)\n",
    "plt.axis('off')\n",
    "plt.show()\n"
   ]
  },
  {
   "cell_type": "code",
   "execution_count": null,
   "metadata": {},
   "outputs": [
    {
     "ename": "ValueError",
     "evalue": "'a' cannot be empty unless no samples are taken",
     "output_type": "error",
     "traceback": [
      "\u001b[1;31m------------------------------------------------------------------------\u001b[0m",
      "\u001b[1;31mValueError\u001b[0m                             Traceback (most recent call last)",
      "Cell \u001b[1;32mIn[13], line 13\u001b[0m\n\u001b[0;32m     10\u001b[0m test_images \u001b[38;5;241m=\u001b[39m \u001b[38;5;28mlist\u001b[39m(test_dir_path\u001b[38;5;241m.\u001b[39mrglob(\u001b[38;5;124m'\u001b[39m\u001b[38;5;124m*/*.jpg\u001b[39m\u001b[38;5;124m'\u001b[39m))\n\u001b[0;32m     12\u001b[0m \u001b[38;5;66;03m# Seleciona uma imagem aleatoriamente\u001b[39;00m\n\u001b[1;32m---> 13\u001b[0m img_path \u001b[38;5;241m=\u001b[39m np\u001b[38;5;241m.\u001b[39mrandom\u001b[38;5;241m.\u001b[39mchoice(test_images)\n\u001b[0;32m     15\u001b[0m \u001b[38;5;66;03m# Carrega a imagem\u001b[39;00m\n\u001b[0;32m     16\u001b[0m img \u001b[38;5;241m=\u001b[39m Image\u001b[38;5;241m.\u001b[39mopen(img_path)\n",
      "File \u001b[1;32mnumpy\\\\random\\\\mtrand.pyx:951\u001b[0m, in \u001b[0;36mnumpy.random.mtrand.RandomState.choice\u001b[1;34m()\u001b[0m\n",
      "\u001b[1;31mValueError\u001b[0m: 'a' cannot be empty unless no samples are taken"
     ]
    }
   ],
   "source": [
    "from PIL import Image\n",
    "import matplotlib.pyplot as plt\n",
    "import numpy as np\n",
    "from pathlib import Path\n",
    "\n",
    "# Caminho para o diretório de treino\n",
    "test_dir_path = Path('/kaggle/input/dataset-original/pellis_training/test')\n",
    "\n",
    "# Lista de imagens no diretório de treino\n",
    "test_images = list(test_dir_path.rglob('*/*.jpg'))\n",
    "\n",
    "# Seleciona uma imagem aleatoriamente\n",
    "img_path = np.random.choice(test_images)\n",
    "\n",
    "# Carrega a imagem\n",
    "img = Image.open(img_path)\n",
    "\n",
    "# Obtendo o nome da classe\n",
    "class_name = img_path.parent.name\n",
    "\n",
    "# Exibe a imagem\n",
    "plt.imshow(img)\n",
    "plt.title(class_name)\n",
    "plt.axis('off')\n",
    "plt.show()\n"
   ]
  },
  {
   "cell_type": "code",
   "execution_count": null,
   "metadata": {},
   "outputs": [],
   "source": [
    "img_array = np.array(img)\n",
    "\n",
    "# Plotting with matplotlib\n",
    "plt.imshow(img_array)\n",
    "plt.title(f'Image class: {class_name} | Image shape: {img_array.shape} -> (H, W, C)')\n",
    "plt.axis('off')"
   ]
  },
  {
   "cell_type": "code",
   "execution_count": null,
   "metadata": {},
   "outputs": [],
   "source": [
    "# Testing transforms on the image\n",
    "plt.figure(figsize=(10, 10))\n",
    "plt.subplot(1, 2, 1)\n",
    "plt.imshow(img)\n",
    "plt.axis('off')\n",
    "plt.title(f'Original Image | {img_array.shape} -> (H, W, C)')\n",
    "\n",
    "# Apply transforms\n",
    "img_tensor = train_transforms(img)\n",
    "img_tensor = img_tensor.numpy().transpose((1, 2, 0))\n",
    "plt.subplot(1, 2, 2)\n",
    "plt.imshow(img_tensor)\n",
    "plt.axis('off')\n",
    "plt.title(f'Transformed Image | {img_tensor.shape} -> (H, W, C)')\n",
    "plt.show()"
   ]
  },
  {
   "cell_type": "code",
   "execution_count": 32,
   "metadata": {},
   "outputs": [
    {
     "data": {
      "text/plain": [
       "['1', '2 profundo', '2 superficial', '3', 'Não queimadura']"
      ]
     },
     "execution_count": 32,
     "metadata": {},
     "output_type": "execute_result"
    }
   ],
   "source": [
    "# Getting class names from the training dataset as a list\n",
    "class_names = train_dataset.classes\n",
    "\n",
    "class_names"
   ]
  },
  {
   "cell_type": "code",
   "execution_count": 33,
   "metadata": {},
   "outputs": [
    {
     "name": "stdout",
     "output_type": "stream",
     "text": [
      "Unique labels in train_loader: {0, 1, 2, 3, 4}\n",
      "Unique labels in test_loader: {0}\n",
      "Number of classes in train_dataset: 5\n",
      "Class names: ['1', '2 profundo', '2 superficial', '3', 'Não queimadura']\n"
     ]
    }
   ],
   "source": [
    "BATCH_SIZE = 32\n",
    "NUM_WORKERS = os.cpu_count()\n",
    "\n",
    "# Cria os carregadores de dados\n",
    "train_loader = DataLoader(train_dataset,\n",
    "                          batch_size=BATCH_SIZE,\n",
    "                          shuffle=True,\n",
    "                          num_workers=NUM_WORKERS,\n",
    "                          pin_memory=True)\n",
    "\n",
    "test_loader = DataLoader(test_dataset,\n",
    "                         batch_size=BATCH_SIZE,\n",
    "                         shuffle=False,\n",
    "                         num_workers=NUM_WORKERS,\n",
    "                         pin_memory=True)\n",
    "\n",
    "# Inspecionar os rótulos no DataLoader\n",
    "for images, labels in train_loader:\n",
    "    unique_labels = set(labels.cpu().numpy())\n",
    "    print(f\"Unique labels in train_loader: {unique_labels}\")\n",
    "    break\n",
    "\n",
    "for images, labels in test_loader:\n",
    "    unique_labels = set(labels.cpu().numpy())\n",
    "    print(f\"Unique labels in test_loader: {unique_labels}\")\n",
    "    break\n",
    "\n",
    "print(f\"Number of classes in train_dataset: {len(train_dataset.classes)}\")\n",
    "print(f\"Class names: {train_dataset.classes}\")"
   ]
  },
  {
   "cell_type": "code",
   "execution_count": 34,
   "metadata": {},
   "outputs": [
    {
     "data": {
      "text/plain": [
       "(torch.Size([32, 3, 256, 256]), torch.Size([32]))"
      ]
     },
     "execution_count": 34,
     "metadata": {},
     "output_type": "execute_result"
    }
   ],
   "source": [
    "# Getting first batch of data\n",
    "img, label = next(iter(train_loader))\n",
    "\n",
    "# Checking the shape of the image and label\n",
    "img.shape, label.shape"
   ]
  },
  {
   "cell_type": "code",
   "execution_count": 35,
   "metadata": {},
   "outputs": [],
   "source": [
    "from torchvision.models import convnext_tiny, ConvNeXt_Tiny_Weights\n",
    "\n",
    "# Carrega os pesos do ImageNet\n",
    "weights = ConvNeXt_Tiny_Weights.IMAGENET1K_V1\n",
    "\n",
    "# Inicializa o modelo com os pesos\n",
    "model = convnext_tiny(weights=weights)\n"
   ]
  },
  {
   "cell_type": "code",
   "execution_count": 36,
   "metadata": {},
   "outputs": [],
   "source": [
    "\n",
    "# Congelar as camadas da ResNet50\n",
    "for param in model.parameters():\n",
    "    param.requires_grad = False\n",
    "\n",
    "num_ftrs = model.classifier[-1].in_features\n",
    "num_classes = len(train_dataset.classes)\n",
    "\n",
    "class ModifiedConvNext(nn.Module):\n",
    "    def __init__(self, base_model, num_classes):\n",
    "        super(ModifiedConvNext, self).__init__()\n",
    "        self.base_model = base_model\n",
    "        self.base_model.classifier = nn.Identity()  # Remove the original classifier\n",
    "        self.flatten = nn.Flatten()\n",
    "        self.classifier = nn.Sequential(\n",
    "            nn.Linear(num_ftrs, 512),\n",
    "            nn.ReLU(),\n",
    "            nn.Dropout(0.4),\n",
    "            nn.Linear(512, 256),\n",
    "            nn.ReLU(),\n",
    "            nn.Dropout(0.4),\n",
    "            nn.Linear(256, num_classes),  # 3 classes para queimaduras de grau 1, 2 e 3\n",
    "        )\n",
    "\n",
    "    def forward(self, x):\n",
    "        x = self.base_model(x)\n",
    "        x = self.flatten(x)\n",
    "        x = self.classifier(x)\n",
    "        return x\n",
    "\n"
   ]
  },
  {
   "cell_type": "code",
   "execution_count": 37,
   "metadata": {},
   "outputs": [],
   "source": [
    "\n",
    "class YourModel(nn.Module):\n",
    "    def __init__(self):\n",
    "        super(YourModel, self).__init__()\n",
    "        # Outras camadas do teu modelo\n",
    "        self.flatten = nn.Flatten()\n",
    "        self.fc1 = nn.Linear(196608, 512)  # Ajusta esse valor conforme necessário\n",
    "        self.fc2 = nn.Linear(512, num_classes)  # num_classes é o número de classes que você tem\n",
    "\n",
    "    def forward(self, x):\n",
    "        # Passa por outras camadas do teu modelo\n",
    "        x = self.flatten(x)\n",
    "        x = self.fc1(x)\n",
    "        x = nn.ReLU()(x)\n",
    "        x = self.fc2(x)\n",
    "        return x\n"
   ]
  },
  {
   "cell_type": "code",
   "execution_count": 39,
   "metadata": {},
   "outputs": [],
   "source": [
    "import torch \n",
    "\n",
    "device = torch.device('cuda' if torch.cuda.is_available() else 'cpu')\n",
    "\n",
    "\n",
    "\n",
    "model = ModifiedConvNext(model, num_classes).to(device)\n"
   ]
  },
  {
   "cell_type": "code",
   "execution_count": 40,
   "metadata": {},
   "outputs": [],
   "source": [
    "def train_step(model: nn.Module,\n",
    "               dataloader: DataLoader,\n",
    "               loss_fn: nn.Module,\n",
    "               optimizer: optim.Optimizer,\n",
    "               device: torch.device) -> Dict[str, float]:\n",
    "    # Assuring that the model is in device (GPU or CPU)\n",
    "    model.to(device)\n",
    "\n",
    "    # Set the model to train mode\n",
    "    model.train()\n",
    "\n",
    "    # Initialize loss and metrics\n",
    "    train_loss, correct_predictions, total_predictions = 0.0, 0, 0\n",
    "    all_preds, all_labels = [], []\n",
    "\n",
    "    # Looping through the dataloader\n",
    "    for images, labels in dataloader:\n",
    "        # Move images and labels to the device\n",
    "        images, labels = images.to(device), labels.to(device)\n",
    "\n",
    "        # Forward pass\n",
    "        outputs = model(images)\n",
    "\n",
    "        # Calculate loss\n",
    "        loss = loss_fn(outputs, labels)\n",
    "        train_loss += loss.item()\n",
    "\n",
    "        # Zero the gradients\n",
    "        optimizer.zero_grad()\n",
    "\n",
    "        # Backward pass\n",
    "        loss.backward()\n",
    "\n",
    "        # Update weights\n",
    "        optimizer.step()\n",
    "\n",
    "        # Calculate the accuracy\n",
    "        _, preds = torch.max(outputs, 1)\n",
    "        correct_predictions += torch.sum(preds == labels.data).item()\n",
    "        total_predictions += len(preds)\n",
    "\n",
    "        # Collect predictions and labels for metrics\n",
    "        all_preds.extend(preds.cpu().numpy())\n",
    "        all_labels.extend(labels.cpu().numpy())\n",
    "\n",
    "    # Calculate the average loss and accuracy\n",
    "    train_loss /= len(dataloader)\n",
    "    train_accuracy = correct_predictions / total_predictions\n",
    "\n",
    "    # Calculate precision, recall, and F1 score\n",
    "    train_precision = precision_score(all_labels, all_preds, average='macro')\n",
    "    train_recall = recall_score(all_labels, all_preds, average='macro')\n",
    "    train_f1 = f1_score(all_labels, all_preds, average='macro')\n",
    "\n",
    "    return {\n",
    "        'train_loss': train_loss,\n",
    "        'train_accuracy': train_accuracy,\n",
    "        'train_precision': train_precision,\n",
    "        'train_recall': train_recall,\n",
    "        'train_f1': train_f1\n",
    "    }"
   ]
  },
  {
   "cell_type": "code",
   "execution_count": 41,
   "metadata": {},
   "outputs": [],
   "source": [
    "def testing_step(model: nn.Module,\n",
    "                 dataloader: DataLoader,\n",
    "                 loss_fn: nn.Module,\n",
    "                 device: torch.device) -> Dict[str, float]:\n",
    "    # Assuring that the model is in device (GPU or CPU)\n",
    "    model.to(device)\n",
    "\n",
    "    # Set the model to evaluation mode\n",
    "    model.eval()\n",
    "\n",
    "    # Initialize loss and metrics\n",
    "    test_loss, correct_predictions, total_predictions = 0.0, 0, 0\n",
    "    all_preds, all_labels = [], []\n",
    "\n",
    "    # Looping through the dataloader\n",
    "    with torch.inference_mode():\n",
    "        for images, labels in dataloader:\n",
    "            # Move images and labels to the device\n",
    "            images, labels = images.to(device), labels.to(device)\n",
    "\n",
    "            # Forward pass\n",
    "            outputs = model(images)\n",
    "\n",
    "            # Calculate loss\n",
    "            loss = loss_fn(outputs, labels)\n",
    "            test_loss += loss.item()\n",
    "\n",
    "            # Calculate the accuracy\n",
    "            _, preds = torch.max(outputs, 1)\n",
    "            correct_predictions += torch.sum(preds == labels.data).item()\n",
    "            total_predictions += len(preds)\n",
    "\n",
    "            # Collect predictions and labels for metrics\n",
    "            all_preds.extend(preds.cpu().numpy())\n",
    "            all_labels.extend(labels.cpu().numpy())\n",
    "\n",
    "    # Calculate the average loss and accuracy\n",
    "    test_loss /= len(dataloader)\n",
    "    test_accuracy = correct_predictions / total_predictions\n",
    "\n",
    "    # Calculate precision, recall, and F1 score\n",
    "    test_precision = precision_score(all_labels, all_preds, average='macro')\n",
    "    test_recall = recall_score(all_labels, all_preds, average='macro')\n",
    "    test_f1 = f1_score(all_labels, all_preds, average='macro')\n",
    "\n",
    "    return {\n",
    "        'test_loss': test_loss,\n",
    "        'test_accuracy': test_accuracy,\n",
    "        'test_precision': test_precision,\n",
    "        'test_recall': test_recall,\n",
    "        'test_f1': test_f1\n",
    "    }"
   ]
  },
  {
   "cell_type": "code",
   "execution_count": 42,
   "metadata": {},
   "outputs": [],
   "source": [
    "def training(model: nn.Module,\n",
    "             train_loader: DataLoader,\n",
    "             test_loader: DataLoader,\n",
    "             loss_fn: nn.Module,\n",
    "             optimizer: optim.Optimizer,\n",
    "             device: torch.device,\n",
    "             num_epochs: int) -> Dict[str, float]:\n",
    "    history = {\n",
    "        'train_loss': [],\n",
    "        'train_accuracy': [],\n",
    "        'train_precision': [],\n",
    "        'train_recall': [],\n",
    "        'train_f1': [],\n",
    "        'test_loss': [],\n",
    "        'test_accuracy': [],\n",
    "        'test_precision': [],\n",
    "        'test_recall': [],\n",
    "        'test_f1': []\n",
    "    }\n",
    "\n",
    "    for epoch in tqdm(range(num_epochs)):\n",
    "        train_results = train_step(model, train_loader, loss_fn, optimizer, device)\n",
    "        test_results = testing_step(model, test_loader, loss_fn, device)\n",
    "        \n",
    "        history['train_loss'].append(train_results['train_loss'])\n",
    "        history['train_accuracy'].append(train_results['train_accuracy'])\n",
    "        history['train_precision'].append(train_results['train_precision'])\n",
    "        history['train_recall'].append(train_results['train_recall'])\n",
    "        history['train_f1'].append(train_results['train_f1'])\n",
    "        \n",
    "        history['test_loss'].append(test_results['test_loss'])\n",
    "        history['test_accuracy'].append(test_results['test_accuracy'])\n",
    "        history['test_precision'].append(test_results['test_precision'])\n",
    "        history['test_recall'].append(test_results['test_recall'])\n",
    "        history['test_f1'].append(test_results['test_f1'])\n",
    "        \n",
    "        print(f'Epoch {epoch + 1}/{num_epochs}')\n",
    "        print('-' * 20)\n",
    "        print(f\"\"\"\n",
    "              Train Loss: {train_results['train_loss']:.4f}, \n",
    "              Train Accuracy: {train_results['train_accuracy']:.4f},\n",
    "              Train Precision: {train_results['train_precision']:.4f}, \n",
    "              Train Recall: {train_results['train_recall']:.4f}, \n",
    "              Train F1: {train_results['train_f1']:.4f}\n",
    "          \"\"\")\n",
    "        print(f\"\"\"\n",
    "              Test Loss: {test_results['test_loss']:.4f}, \n",
    "              Test Accuracy: {test_results['test_accuracy']:.4f}, \n",
    "              Test Precision: {test_results['test_precision']:.4f}, \n",
    "              Test Recall: {test_results['test_recall']:.4f}, \n",
    "              Test F1: {test_results['test_f1']:.4f}\n",
    "          \"\"\")\n",
    "        print()\n",
    "\n",
    "    return history"
   ]
  },
  {
   "cell_type": "code",
   "execution_count": 43,
   "metadata": {},
   "outputs": [
    {
     "name": "stdout",
     "output_type": "stream",
     "text": [
      "torch.Size([32, 3, 256, 256])\n"
     ]
    }
   ],
   "source": [
    "for images, labels in train_loader:\n",
    "    print(images.shape)\n",
    "    break\n"
   ]
  },
  {
   "cell_type": "code",
   "execution_count": 44,
   "metadata": {},
   "outputs": [
    {
     "name": "stderr",
     "output_type": "stream",
     "text": [
      "  3%|█▏                                 | 1/30 [01:00<29:23, 60.82s/it]"
     ]
    },
    {
     "name": "stdout",
     "output_type": "stream",
     "text": [
      "Epoch 1/30\n",
      "--------------------\n",
      "\n",
      "              Train Loss: 1.2843, \n",
      "              Train Accuracy: 0.4794,\n",
      "              Train Precision: 0.4128, \n",
      "              Train Recall: 0.2903, \n",
      "              Train F1: 0.2742\n",
      "          \n",
      "\n",
      "              Test Loss: 1.0817, \n",
      "              Test Accuracy: 0.5118, \n",
      "              Test Precision: 0.4632, \n",
      "              Test Recall: 0.3813, \n",
      "              Test F1: 0.3678\n",
      "          \n",
      "\n"
     ]
    },
    {
     "name": "stderr",
     "output_type": "stream",
     "text": [
      "  7%|██▎                                | 2/30 [01:59<27:43, 59.41s/it]"
     ]
    },
    {
     "name": "stdout",
     "output_type": "stream",
     "text": [
      "Epoch 2/30\n",
      "--------------------\n",
      "\n",
      "              Train Loss: 0.9953, \n",
      "              Train Accuracy: 0.5946,\n",
      "              Train Precision: 0.5663, \n",
      "              Train Recall: 0.5174, \n",
      "              Train F1: 0.5291\n",
      "          \n",
      "\n",
      "              Test Loss: 1.0298, \n",
      "              Test Accuracy: 0.5453, \n",
      "              Test Precision: 0.5313, \n",
      "              Test Recall: 0.4205, \n",
      "              Test F1: 0.4210\n",
      "          \n",
      "\n"
     ]
    },
    {
     "name": "stderr",
     "output_type": "stream",
     "text": [
      " 10%|███▌                               | 3/30 [02:57<26:34, 59.05s/it]"
     ]
    },
    {
     "name": "stdout",
     "output_type": "stream",
     "text": [
      "Epoch 3/30\n",
      "--------------------\n",
      "\n",
      "              Train Loss: 0.8895, \n",
      "              Train Accuracy: 0.6304,\n",
      "              Train Precision: 0.6125, \n",
      "              Train Recall: 0.5687, \n",
      "              Train F1: 0.5824\n",
      "          \n",
      "\n",
      "              Test Loss: 0.9510, \n",
      "              Test Accuracy: 0.6240, \n",
      "              Test Precision: 0.5779, \n",
      "              Test Recall: 0.5993, \n",
      "              Test F1: 0.5855\n",
      "          \n",
      "\n"
     ]
    },
    {
     "name": "stderr",
     "output_type": "stream",
     "text": [
      " 13%|████▋                              | 4/30 [03:55<25:25, 58.69s/it]"
     ]
    },
    {
     "name": "stdout",
     "output_type": "stream",
     "text": [
      "Epoch 4/30\n",
      "--------------------\n",
      "\n",
      "              Train Loss: 0.8008, \n",
      "              Train Accuracy: 0.6701,\n",
      "              Train Precision: 0.6561, \n",
      "              Train Recall: 0.6269, \n",
      "              Train F1: 0.6370\n",
      "          \n",
      "\n",
      "              Test Loss: 0.9182, \n",
      "              Test Accuracy: 0.6516, \n",
      "              Test Precision: 0.6240, \n",
      "              Test Recall: 0.5776, \n",
      "              Test F1: 0.5962\n",
      "          \n",
      "\n"
     ]
    },
    {
     "name": "stderr",
     "output_type": "stream",
     "text": [
      " 17%|█████▊                             | 5/30 [04:54<24:26, 58.67s/it]"
     ]
    },
    {
     "name": "stdout",
     "output_type": "stream",
     "text": [
      "Epoch 5/30\n",
      "--------------------\n",
      "\n",
      "              Train Loss: 0.7239, \n",
      "              Train Accuracy: 0.7069,\n",
      "              Train Precision: 0.6961, \n",
      "              Train Recall: 0.6722, \n",
      "              Train F1: 0.6822\n",
      "          \n",
      "\n",
      "              Test Loss: 0.9314, \n",
      "              Test Accuracy: 0.6339, \n",
      "              Test Precision: 0.6077, \n",
      "              Test Recall: 0.5866, \n",
      "              Test F1: 0.5886\n",
      "          \n",
      "\n"
     ]
    },
    {
     "name": "stderr",
     "output_type": "stream",
     "text": [
      " 20%|███████                            | 6/30 [05:52<23:22, 58.42s/it]"
     ]
    },
    {
     "name": "stdout",
     "output_type": "stream",
     "text": [
      "Epoch 6/30\n",
      "--------------------\n",
      "\n",
      "              Train Loss: 0.6756, \n",
      "              Train Accuracy: 0.7293,\n",
      "              Train Precision: 0.7211, \n",
      "              Train Recall: 0.6964, \n",
      "              Train F1: 0.7076\n",
      "          \n",
      "\n",
      "              Test Loss: 0.9721, \n",
      "              Test Accuracy: 0.6358, \n",
      "              Test Precision: 0.6216, \n",
      "              Test Recall: 0.5647, \n",
      "              Test F1: 0.5723\n",
      "          \n",
      "\n"
     ]
    },
    {
     "name": "stderr",
     "output_type": "stream",
     "text": [
      " 23%|████████▏                          | 7/30 [06:50<22:20, 58.28s/it]"
     ]
    },
    {
     "name": "stdout",
     "output_type": "stream",
     "text": [
      "Epoch 7/30\n",
      "--------------------\n",
      "\n",
      "              Train Loss: 0.5996, \n",
      "              Train Accuracy: 0.7645,\n",
      "              Train Precision: 0.7688, \n",
      "              Train Recall: 0.7345, \n",
      "              Train F1: 0.7498\n",
      "          \n",
      "\n",
      "              Test Loss: 0.9502, \n",
      "              Test Accuracy: 0.6594, \n",
      "              Test Precision: 0.6157, \n",
      "              Test Recall: 0.6128, \n",
      "              Test F1: 0.6084\n",
      "          \n",
      "\n"
     ]
    },
    {
     "name": "stderr",
     "output_type": "stream",
     "text": [
      " 27%|█████████▎                         | 8/30 [07:48<21:21, 58.27s/it]"
     ]
    },
    {
     "name": "stdout",
     "output_type": "stream",
     "text": [
      "Epoch 8/30\n",
      "--------------------\n",
      "\n",
      "              Train Loss: 0.5438, \n",
      "              Train Accuracy: 0.7854,\n",
      "              Train Precision: 0.7830, \n",
      "              Train Recall: 0.7672, \n",
      "              Train F1: 0.7741\n",
      "          \n",
      "\n",
      "              Test Loss: 0.9769, \n",
      "              Test Accuracy: 0.6398, \n",
      "              Test Precision: 0.6032, \n",
      "              Test Recall: 0.5924, \n",
      "              Test F1: 0.5936\n",
      "          \n",
      "\n"
     ]
    },
    {
     "name": "stderr",
     "output_type": "stream",
     "text": [
      " 30%|██████████▌                        | 9/30 [08:47<20:25, 58.37s/it]"
     ]
    },
    {
     "name": "stdout",
     "output_type": "stream",
     "text": [
      "Epoch 9/30\n",
      "--------------------\n",
      "\n",
      "              Train Loss: 0.4703, \n",
      "              Train Accuracy: 0.8301,\n",
      "              Train Precision: 0.8363, \n",
      "              Train Recall: 0.8173, \n",
      "              Train F1: 0.8262\n",
      "          \n",
      "\n",
      "              Test Loss: 1.0924, \n",
      "              Test Accuracy: 0.6220, \n",
      "              Test Precision: 0.5781, \n",
      "              Test Recall: 0.5833, \n",
      "              Test F1: 0.5691\n",
      "          \n",
      "\n"
     ]
    },
    {
     "name": "stderr",
     "output_type": "stream",
     "text": [
      " 33%|███████████▎                      | 10/30 [09:45<19:25, 58.26s/it]"
     ]
    },
    {
     "name": "stdout",
     "output_type": "stream",
     "text": [
      "Epoch 10/30\n",
      "--------------------\n",
      "\n",
      "              Train Loss: 0.4108, \n",
      "              Train Accuracy: 0.8420,\n",
      "              Train Precision: 0.8436, \n",
      "              Train Recall: 0.8269, \n",
      "              Train F1: 0.8347\n",
      "          \n",
      "\n",
      "              Test Loss: 1.1086, \n",
      "              Test Accuracy: 0.6555, \n",
      "              Test Precision: 0.6063, \n",
      "              Test Recall: 0.6007, \n",
      "              Test F1: 0.5930\n",
      "          \n",
      "\n"
     ]
    },
    {
     "name": "stderr",
     "output_type": "stream",
     "text": [
      " 37%|████████████▍                     | 11/30 [10:43<18:26, 58.26s/it]"
     ]
    },
    {
     "name": "stdout",
     "output_type": "stream",
     "text": [
      "Epoch 11/30\n",
      "--------------------\n",
      "\n",
      "              Train Loss: 0.3758, \n",
      "              Train Accuracy: 0.8544,\n",
      "              Train Precision: 0.8508, \n",
      "              Train Recall: 0.8415, \n",
      "              Train F1: 0.8459\n",
      "          \n",
      "\n",
      "              Test Loss: 1.1541, \n",
      "              Test Accuracy: 0.6181, \n",
      "              Test Precision: 0.5841, \n",
      "              Test Recall: 0.5846, \n",
      "              Test F1: 0.5786\n",
      "          \n",
      "\n"
     ]
    },
    {
     "name": "stderr",
     "output_type": "stream",
     "text": [
      " 40%|█████████████▌                    | 12/30 [11:41<17:27, 58.19s/it]"
     ]
    },
    {
     "name": "stdout",
     "output_type": "stream",
     "text": [
      "Epoch 12/30\n",
      "--------------------\n",
      "\n",
      "              Train Loss: 0.3027, \n",
      "              Train Accuracy: 0.8897,\n",
      "              Train Precision: 0.8921, \n",
      "              Train Recall: 0.8779, \n",
      "              Train F1: 0.8847\n",
      "          \n",
      "\n",
      "              Test Loss: 1.2408, \n",
      "              Test Accuracy: 0.6398, \n",
      "              Test Precision: 0.6031, \n",
      "              Test Recall: 0.5827, \n",
      "              Test F1: 0.5795\n",
      "          \n",
      "\n"
     ]
    },
    {
     "name": "stderr",
     "output_type": "stream",
     "text": [
      " 43%|██████████████▋                   | 13/30 [12:39<16:27, 58.08s/it]"
     ]
    },
    {
     "name": "stdout",
     "output_type": "stream",
     "text": [
      "Epoch 13/30\n",
      "--------------------\n",
      "\n",
      "              Train Loss: 0.3050, \n",
      "              Train Accuracy: 0.8897,\n",
      "              Train Precision: 0.8918, \n",
      "              Train Recall: 0.8776, \n",
      "              Train F1: 0.8843\n",
      "          \n",
      "\n",
      "              Test Loss: 1.2929, \n",
      "              Test Accuracy: 0.6102, \n",
      "              Test Precision: 0.5758, \n",
      "              Test Recall: 0.6175, \n",
      "              Test F1: 0.5893\n",
      "          \n",
      "\n"
     ]
    },
    {
     "name": "stderr",
     "output_type": "stream",
     "text": [
      " 47%|███████████████▊                  | 14/30 [13:37<15:30, 58.17s/it]"
     ]
    },
    {
     "name": "stdout",
     "output_type": "stream",
     "text": [
      "Epoch 14/30\n",
      "--------------------\n",
      "\n",
      "              Train Loss: 0.2743, \n",
      "              Train Accuracy: 0.8967,\n",
      "              Train Precision: 0.8982, \n",
      "              Train Recall: 0.8905, \n",
      "              Train F1: 0.8943\n",
      "          \n",
      "\n",
      "              Test Loss: 1.2823, \n",
      "              Test Accuracy: 0.6398, \n",
      "              Test Precision: 0.6111, \n",
      "              Test Recall: 0.6233, \n",
      "              Test F1: 0.6104\n",
      "          \n",
      "\n"
     ]
    },
    {
     "name": "stderr",
     "output_type": "stream",
     "text": [
      " 50%|█████████████████                 | 15/30 [14:35<14:32, 58.14s/it]"
     ]
    },
    {
     "name": "stdout",
     "output_type": "stream",
     "text": [
      "Epoch 15/30\n",
      "--------------------\n",
      "\n",
      "              Train Loss: 0.2446, \n",
      "              Train Accuracy: 0.9121,\n",
      "              Train Precision: 0.9143, \n",
      "              Train Recall: 0.9072, \n",
      "              Train F1: 0.9107\n",
      "          \n",
      "\n",
      "              Test Loss: 1.3617, \n",
      "              Test Accuracy: 0.6181, \n",
      "              Test Precision: 0.5802, \n",
      "              Test Recall: 0.5507, \n",
      "              Test F1: 0.5578\n",
      "          \n",
      "\n"
     ]
    },
    {
     "name": "stderr",
     "output_type": "stream",
     "text": [
      " 53%|██████████████████▏               | 16/30 [15:34<13:35, 58.25s/it]"
     ]
    },
    {
     "name": "stdout",
     "output_type": "stream",
     "text": [
      "Epoch 16/30\n",
      "--------------------\n",
      "\n",
      "              Train Loss: 0.2207, \n",
      "              Train Accuracy: 0.9175,\n",
      "              Train Precision: 0.9153, \n",
      "              Train Recall: 0.9104, \n",
      "              Train F1: 0.9128\n",
      "          \n",
      "\n",
      "              Test Loss: 1.4294, \n",
      "              Test Accuracy: 0.6181, \n",
      "              Test Precision: 0.5793, \n",
      "              Test Recall: 0.5943, \n",
      "              Test F1: 0.5794\n",
      "          \n",
      "\n"
     ]
    },
    {
     "name": "stderr",
     "output_type": "stream",
     "text": [
      " 57%|███████████████████▎              | 17/30 [16:32<12:36, 58.19s/it]"
     ]
    },
    {
     "name": "stdout",
     "output_type": "stream",
     "text": [
      "Epoch 17/30\n",
      "--------------------\n",
      "\n",
      "              Train Loss: 0.2060, \n",
      "              Train Accuracy: 0.9275,\n",
      "              Train Precision: 0.9273, \n",
      "              Train Recall: 0.9199, \n",
      "              Train F1: 0.9234\n",
      "          \n",
      "\n",
      "              Test Loss: 1.4703, \n",
      "              Test Accuracy: 0.6122, \n",
      "              Test Precision: 0.5526, \n",
      "              Test Recall: 0.5536, \n",
      "              Test F1: 0.5486\n",
      "          \n",
      "\n"
     ]
    },
    {
     "name": "stderr",
     "output_type": "stream",
     "text": [
      " 60%|████████████████████▍             | 18/30 [17:30<11:38, 58.23s/it]"
     ]
    },
    {
     "name": "stdout",
     "output_type": "stream",
     "text": [
      "Epoch 18/30\n",
      "--------------------\n",
      "\n",
      "              Train Loss: 0.2006, \n",
      "              Train Accuracy: 0.9280,\n",
      "              Train Precision: 0.9302, \n",
      "              Train Recall: 0.9275, \n",
      "              Train F1: 0.9287\n",
      "          \n",
      "\n",
      "              Test Loss: 1.6165, \n",
      "              Test Accuracy: 0.6024, \n",
      "              Test Precision: 0.5753, \n",
      "              Test Recall: 0.5329, \n",
      "              Test F1: 0.5394\n",
      "          \n",
      "\n"
     ]
    },
    {
     "name": "stderr",
     "output_type": "stream",
     "text": [
      " 63%|█████████████████████▌            | 19/30 [18:28<10:39, 58.12s/it]"
     ]
    },
    {
     "name": "stdout",
     "output_type": "stream",
     "text": [
      "Epoch 19/30\n",
      "--------------------\n",
      "\n",
      "              Train Loss: 0.1951, \n",
      "              Train Accuracy: 0.9344,\n",
      "              Train Precision: 0.9341, \n",
      "              Train Recall: 0.9278, \n",
      "              Train F1: 0.9309\n",
      "          \n",
      "\n",
      "              Test Loss: 1.4277, \n",
      "              Test Accuracy: 0.6358, \n",
      "              Test Precision: 0.5837, \n",
      "              Test Recall: 0.5646, \n",
      "              Test F1: 0.5692\n",
      "          \n",
      "\n"
     ]
    },
    {
     "name": "stderr",
     "output_type": "stream",
     "text": [
      " 67%|██████████████████████▋           | 20/30 [19:26<09:40, 58.03s/it]"
     ]
    },
    {
     "name": "stdout",
     "output_type": "stream",
     "text": [
      "Epoch 20/30\n",
      "--------------------\n",
      "\n",
      "              Train Loss: 0.1788, \n",
      "              Train Accuracy: 0.9384,\n",
      "              Train Precision: 0.9372, \n",
      "              Train Recall: 0.9326, \n",
      "              Train F1: 0.9348\n",
      "          \n",
      "\n",
      "              Test Loss: 1.5138, \n",
      "              Test Accuracy: 0.6102, \n",
      "              Test Precision: 0.5686, \n",
      "              Test Recall: 0.5606, \n",
      "              Test F1: 0.5574\n",
      "          \n",
      "\n"
     ]
    },
    {
     "name": "stderr",
     "output_type": "stream",
     "text": [
      " 70%|███████████████████████▊          | 21/30 [20:24<08:42, 58.07s/it]"
     ]
    },
    {
     "name": "stdout",
     "output_type": "stream",
     "text": [
      "Epoch 21/30\n",
      "--------------------\n",
      "\n",
      "              Train Loss: 0.1616, \n",
      "              Train Accuracy: 0.9449,\n",
      "              Train Precision: 0.9428, \n",
      "              Train Recall: 0.9397, \n",
      "              Train F1: 0.9413\n",
      "          \n",
      "\n",
      "              Test Loss: 1.4666, \n",
      "              Test Accuracy: 0.6378, \n",
      "              Test Precision: 0.5844, \n",
      "              Test Recall: 0.5991, \n",
      "              Test F1: 0.5862\n",
      "          \n",
      "\n"
     ]
    },
    {
     "name": "stderr",
     "output_type": "stream",
     "text": [
      " 73%|████████████████████████▉         | 22/30 [21:22<07:44, 58.10s/it]"
     ]
    },
    {
     "name": "stdout",
     "output_type": "stream",
     "text": [
      "Epoch 22/30\n",
      "--------------------\n",
      "\n",
      "              Train Loss: 0.1475, \n",
      "              Train Accuracy: 0.9543,\n",
      "              Train Precision: 0.9568, \n",
      "              Train Recall: 0.9529, \n",
      "              Train F1: 0.9548\n",
      "          \n",
      "\n",
      "              Test Loss: 1.5952, \n",
      "              Test Accuracy: 0.6339, \n",
      "              Test Precision: 0.5847, \n",
      "              Test Recall: 0.5913, \n",
      "              Test F1: 0.5838\n",
      "          \n",
      "\n"
     ]
    },
    {
     "name": "stderr",
     "output_type": "stream",
     "text": [
      " 77%|██████████████████████████        | 23/30 [22:21<06:46, 58.14s/it]"
     ]
    },
    {
     "name": "stdout",
     "output_type": "stream",
     "text": [
      "Epoch 23/30\n",
      "--------------------\n",
      "\n",
      "              Train Loss: 0.1622, \n",
      "              Train Accuracy: 0.9429,\n",
      "              Train Precision: 0.9415, \n",
      "              Train Recall: 0.9355, \n",
      "              Train F1: 0.9385\n",
      "          \n",
      "\n",
      "              Test Loss: 1.6142, \n",
      "              Test Accuracy: 0.6319, \n",
      "              Test Precision: 0.5958, \n",
      "              Test Recall: 0.5870, \n",
      "              Test F1: 0.5752\n",
      "          \n",
      "\n"
     ]
    },
    {
     "name": "stderr",
     "output_type": "stream",
     "text": [
      " 80%|███████████████████████████▏      | 24/30 [23:19<05:49, 58.24s/it]"
     ]
    },
    {
     "name": "stdout",
     "output_type": "stream",
     "text": [
      "Epoch 24/30\n",
      "--------------------\n",
      "\n",
      "              Train Loss: 0.1313, \n",
      "              Train Accuracy: 0.9553,\n",
      "              Train Precision: 0.9553, \n",
      "              Train Recall: 0.9534, \n",
      "              Train F1: 0.9543\n",
      "          \n",
      "\n",
      "              Test Loss: 1.7375, \n",
      "              Test Accuracy: 0.6319, \n",
      "              Test Precision: 0.5989, \n",
      "              Test Recall: 0.5697, \n",
      "              Test F1: 0.5639\n",
      "          \n",
      "\n"
     ]
    },
    {
     "name": "stderr",
     "output_type": "stream",
     "text": [
      " 83%|████████████████████████████▎     | 25/30 [24:18<04:51, 58.32s/it]"
     ]
    },
    {
     "name": "stdout",
     "output_type": "stream",
     "text": [
      "Epoch 25/30\n",
      "--------------------\n",
      "\n",
      "              Train Loss: 0.1335, \n",
      "              Train Accuracy: 0.9548,\n",
      "              Train Precision: 0.9559, \n",
      "              Train Recall: 0.9510, \n",
      "              Train F1: 0.9534\n",
      "          \n",
      "\n",
      "              Test Loss: 1.7498, \n",
      "              Test Accuracy: 0.5846, \n",
      "              Test Precision: 0.5313, \n",
      "              Test Recall: 0.5443, \n",
      "              Test F1: 0.5286\n",
      "          \n",
      "\n"
     ]
    },
    {
     "name": "stderr",
     "output_type": "stream",
     "text": [
      " 87%|█████████████████████████████▍    | 26/30 [25:16<03:53, 58.32s/it]"
     ]
    },
    {
     "name": "stdout",
     "output_type": "stream",
     "text": [
      "Epoch 26/30\n",
      "--------------------\n",
      "\n",
      "              Train Loss: 0.1177, \n",
      "              Train Accuracy: 0.9617,\n",
      "              Train Precision: 0.9600, \n",
      "              Train Recall: 0.9584, \n",
      "              Train F1: 0.9592\n",
      "          \n",
      "\n",
      "              Test Loss: 1.7511, \n",
      "              Test Accuracy: 0.5925, \n",
      "              Test Precision: 0.5460, \n",
      "              Test Recall: 0.5426, \n",
      "              Test F1: 0.5386\n",
      "          \n",
      "\n"
     ]
    },
    {
     "name": "stderr",
     "output_type": "stream",
     "text": [
      " 90%|██████████████████████████████▌   | 27/30 [26:14<02:54, 58.25s/it]"
     ]
    },
    {
     "name": "stdout",
     "output_type": "stream",
     "text": [
      "Epoch 27/30\n",
      "--------------------\n",
      "\n",
      "              Train Loss: 0.1114, \n",
      "              Train Accuracy: 0.9677,\n",
      "              Train Precision: 0.9709, \n",
      "              Train Recall: 0.9656, \n",
      "              Train F1: 0.9682\n",
      "          \n",
      "\n",
      "              Test Loss: 1.6710, \n",
      "              Test Accuracy: 0.6339, \n",
      "              Test Precision: 0.5781, \n",
      "              Test Recall: 0.5697, \n",
      "              Test F1: 0.5715\n",
      "          \n",
      "\n"
     ]
    },
    {
     "name": "stderr",
     "output_type": "stream",
     "text": [
      " 93%|███████████████████████████████▋  | 28/30 [27:12<01:56, 58.16s/it]"
     ]
    },
    {
     "name": "stdout",
     "output_type": "stream",
     "text": [
      "Epoch 28/30\n",
      "--------------------\n",
      "\n",
      "              Train Loss: 0.1039, \n",
      "              Train Accuracy: 0.9657,\n",
      "              Train Precision: 0.9654, \n",
      "              Train Recall: 0.9609, \n",
      "              Train F1: 0.9631\n",
      "          \n",
      "\n",
      "              Test Loss: 1.7854, \n",
      "              Test Accuracy: 0.6220, \n",
      "              Test Precision: 0.5781, \n",
      "              Test Recall: 0.5662, \n",
      "              Test F1: 0.5602\n",
      "          \n",
      "\n"
     ]
    },
    {
     "name": "stderr",
     "output_type": "stream",
     "text": [
      " 97%|████████████████████████████████▊ | 29/30 [28:10<00:58, 58.27s/it]"
     ]
    },
    {
     "name": "stdout",
     "output_type": "stream",
     "text": [
      "Epoch 29/30\n",
      "--------------------\n",
      "\n",
      "              Train Loss: 0.1203, \n",
      "              Train Accuracy: 0.9578,\n",
      "              Train Precision: 0.9616, \n",
      "              Train Recall: 0.9545, \n",
      "              Train F1: 0.9580\n",
      "          \n",
      "\n",
      "              Test Loss: 1.6678, \n",
      "              Test Accuracy: 0.6299, \n",
      "              Test Precision: 0.5849, \n",
      "              Test Recall: 0.5969, \n",
      "              Test F1: 0.5861\n",
      "          \n",
      "\n"
     ]
    },
    {
     "name": "stderr",
     "output_type": "stream",
     "text": [
      "100%|██████████████████████████████████| 30/30 [29:09<00:00, 58.30s/it]"
     ]
    },
    {
     "name": "stdout",
     "output_type": "stream",
     "text": [
      "Epoch 30/30\n",
      "--------------------\n",
      "\n",
      "              Train Loss: 0.1174, \n",
      "              Train Accuracy: 0.9553,\n",
      "              Train Precision: 0.9552, \n",
      "              Train Recall: 0.9548, \n",
      "              Train F1: 0.9550\n",
      "          \n",
      "\n",
      "              Test Loss: 1.7773, \n",
      "              Test Accuracy: 0.6083, \n",
      "              Test Precision: 0.5724, \n",
      "              Test Recall: 0.5929, \n",
      "              Test F1: 0.5710\n",
      "          \n",
      "\n",
      "Total training time: 29m 9s\n",
      "Training results:  {'train_loss': [1.2842923885300046, 0.9953091163483877, 0.8895095142107161, 0.8008279166524372, 0.7238552102020809, 0.6756105976445335, 0.5995557568376026, 0.5438196928728194, 0.4702590330252572, 0.41083176008292605, 0.3757914337846968, 0.30274478121409343, 0.3049612585750837, 0.2743312982576234, 0.24455033313660396, 0.2207386452290747, 0.20600407558774192, 0.2006326350900862, 0.19508018190898593, 0.17882511268059412, 0.16162007550398508, 0.14749145419115112, 0.16220587184504856, 0.1313467597854989, 0.13352652565236128, 0.11772656065249254, 0.11139336784207632, 0.10391286426475124, 0.12032798478113753, 0.11742167100162497], 'train_accuracy': [0.4793840039741679, 0.5946348733233979, 0.6304023845007451, 0.6701440635866865, 0.7069051167411823, 0.7292598112270243, 0.7645305514157973, 0.7853949329359166, 0.8301043219076006, 0.842026825633383, 0.8544461003477397, 0.8897168405365127, 0.8897168405365127, 0.8966716343765524, 0.9120715350223547, 0.9175360158966717, 0.9274714356681569, 0.9279682066567313, 0.9344262295081968, 0.9384003974167908, 0.9448584202682563, 0.9542970690511674, 0.9428713363139593, 0.9552906110283159, 0.9547938400397417, 0.9617486338797814, 0.9677098857426726, 0.9657228017883756, 0.9577744659711873, 0.9552906110283159], 'train_precision': [0.4127886396006654, 0.5663024836718281, 0.6124572977220775, 0.6560920422486526, 0.6961253585849181, 0.7210524019074047, 0.7688099573939505, 0.7829801664359228, 0.8363430993527794, 0.843606805625314, 0.8508081508154021, 0.8920800455983262, 0.8918356285427874, 0.8981985181530583, 0.9142677300227924, 0.9153064167421924, 0.9272631875079597, 0.9301911279299425, 0.9340500007461543, 0.9371681518820424, 0.9428495776702837, 0.9567941784499437, 0.94151441879519, 0.9552653510400336, 0.9559281883931584, 0.9599672032584069, 0.9708599512065405, 0.9653633463310882, 0.9615927584890966, 0.9552466203077328], 'train_recall': [0.2903131645257577, 0.5174103647259427, 0.5686690274291388, 0.6268558090817482, 0.6721595500686817, 0.6963888952905412, 0.7345180991352909, 0.7671614795532881, 0.8172862814556353, 0.8269307657896064, 0.8414743364307975, 0.8778759863600445, 0.8775963423367253, 0.8905280998962072, 0.9072036190546047, 0.9104058779967241, 0.9198888594212011, 0.9274648099339066, 0.9278134024842093, 0.9326420652496639, 0.9397318665552806, 0.9528552353743155, 0.9355217690705423, 0.9533975616554301, 0.9510341033973182, 0.9584048847807706, 0.9655524084052546, 0.960880136200078, 0.9545012281642951, 0.9547786027473657], 'train_f1': [0.27418980285767475, 0.5291388353897285, 0.582370925058998, 0.6369546368653983, 0.6821559331055767, 0.7076232841832082, 0.7497766205982753, 0.7741128697125428, 0.8261787922099378, 0.8346989844197792, 0.8458996941099176, 0.8847091242871141, 0.8842521989482914, 0.8942948835215694, 0.9106647080094366, 0.9128211546030048, 0.9234299707261997, 0.928739050634937, 0.9308886106128611, 0.9348236185739666, 0.9412539018009867, 0.9548053780604819, 0.9384550824729416, 0.9542930737272505, 0.9534496422671964, 0.9591751042405473, 0.9681550384090103, 0.963094524259518, 0.9579651616993718, 0.9549712845629778], 'test_loss': [1.0817363895475864, 1.0297947023063898, 0.950957465916872, 0.9181855469942093, 0.931352686136961, 0.9720660578459501, 0.9501805733889341, 0.976946048438549, 1.0924046281725168, 1.1086291633546352, 1.1540889907628298, 1.240782756358385, 1.2928836941719055, 1.2822574079036713, 1.3616919927299023, 1.429415762424469, 1.4702875092625618, 1.6165200732648373, 1.4277473762631416, 1.5137966889888048, 1.4666066654026508, 1.595205269753933, 1.614243522286415, 1.7374898381531239, 1.7497994415462017, 1.7511172220110893, 1.6709915101528168, 1.7853967100381851, 1.667828381061554, 1.777335362508893], 'test_accuracy': [0.5118110236220472, 0.5452755905511811, 0.6240157480314961, 0.6515748031496063, 0.6338582677165354, 0.6358267716535433, 0.6594488188976378, 0.639763779527559, 0.6220472440944882, 0.655511811023622, 0.6181102362204725, 0.639763779527559, 0.610236220472441, 0.639763779527559, 0.6181102362204725, 0.6181102362204725, 0.6122047244094488, 0.6023622047244095, 0.6358267716535433, 0.610236220472441, 0.6377952755905512, 0.6338582677165354, 0.6318897637795275, 0.6318897637795275, 0.5846456692913385, 0.59251968503937, 0.6338582677165354, 0.6220472440944882, 0.6299212598425197, 0.6082677165354331], 'test_precision': [0.4632241524925183, 0.5312791375291376, 0.5779352584293076, 0.6240182129969795, 0.6077266259249069, 0.6215589153892708, 0.6156541032762307, 0.6031606611806484, 0.5780804575541417, 0.606278010131091, 0.5840574285477198, 0.6030903107732376, 0.5757815152364307, 0.6110570381998953, 0.5802424571753868, 0.579316464243619, 0.552597481021394, 0.5752813852813853, 0.5836626988796366, 0.568608263857573, 0.5844245105163399, 0.58470409852835, 0.5958055433410403, 0.5988744256205771, 0.5312807421222177, 0.5459770114942529, 0.5781103908970252, 0.5780956982928827, 0.5849454606183444, 0.5723784020215335], 'test_recall': [0.3812713671301213, 0.4204934360881555, 0.5993241591831697, 0.5775544664303957, 0.5865605346071894, 0.5646970048379943, 0.6128206849688521, 0.5924378703601979, 0.5833249987454037, 0.6007369091360375, 0.5845937956486533, 0.5826862804137862, 0.6175345624307429, 0.6232665820322831, 0.5507304191436466, 0.5942955747339239, 0.5536144374865215, 0.5328873887986936, 0.5645972135756806, 0.5605789046086406, 0.5990550449009818, 0.5913302789001328, 0.5870310760095431, 0.56971163953348, 0.5442566754691851, 0.5425890661599454, 0.569668074527085, 0.5662346718857869, 0.5969341804909608, 0.5929029051023411], 'test_f1': [0.36784928588502946, 0.42097162301443286, 0.5855391732011679, 0.5962083165830616, 0.5886449664662363, 0.5722570773189914, 0.6083734099399443, 0.5936323267806739, 0.569060578908296, 0.5930285361442458, 0.5786014175425958, 0.5795457214002064, 0.5892699911735791, 0.610396838442966, 0.557816948241933, 0.5794296442932696, 0.5486138783470584, 0.539408398618925, 0.5692335926588553, 0.5573879398591874, 0.5861661918328585, 0.5837881707040432, 0.5752295757971654, 0.5639123433857769, 0.528563695084631, 0.5386401471544836, 0.5714866342275375, 0.5601769718750851, 0.586146615393946, 0.570988404742737]}\n"
     ]
    },
    {
     "name": "stderr",
     "output_type": "stream",
     "text": [
      "\n"
     ]
    }
   ],
   "source": [
    "import torch\n",
    "import torch.nn as nn  # Importa o módulo nn aqui\n",
    "import torch.optim as optim\n",
    "from tqdm import tqdm\n",
    "\n",
    "\n",
    "# Define a função de perda\n",
    "loss_fn = nn.CrossEntropyLoss()\n",
    "\n",
    "# Adiciona isso no começo do código, junto com as outras importações\n",
    "from time import time\n",
    "\n",
    "optimizer = optim.Adam(model.parameters(), lr=0.001)\n",
    "\n",
    "# Training the model\n",
    "NUM_EPOCHS = 30\n",
    "start_time = time()\n",
    "model_results = training(model, train_loader, test_loader, loss_fn, optimizer, device, NUM_EPOCHS)\n",
    "end_time = time()\n",
    "\n",
    "total_time = end_time - start_time\n",
    "print(f'Total training time: {total_time // 60:.0f}m {total_time % 60:.0f}s')\n",
    "print(\"Training results: \", model_results)\n"
   ]
  },
  {
   "cell_type": "code",
   "execution_count": 45,
   "metadata": {},
   "outputs": [
    {
     "data": {
      "image/png": "[encoded data removed]",
      "text/plain": [
       "<Figure size 1000x600 with 1 Axes>"
      ]
     },
     "metadata": {},
     "output_type": "display_data"
    }
   ],
   "source": [
    "def plot_loss_curve(history: Dict[str, float]):\n",
    "    plt.figure(figsize=(10, 6))\n",
    "    plt.plot(history['train_loss'], label='Train Loss', marker='o')\n",
    "    plt.plot(history['test_loss'], label='Test Loss', marker='o')\n",
    "    plt.title('Loss Curve')\n",
    "    plt.xlabel('Epoch')\n",
    "    plt.ylabel('Loss')\n",
    "    plt.legend()\n",
    "    plt.grid(True)\n",
    "    plt.show()\n",
    "\n",
    "plot_loss_curve(model_results)\n"
   ]
  },
  {
   "cell_type": "code",
   "execution_count": 46,
   "metadata": {},
   "outputs": [],
   "source": [
    "from sklearn.metrics import ConfusionMatrixDisplay\n",
    "\n",
    "def plot_confusion_matrix(model: nn.Module,\n",
    "                          dataloader: DataLoader,\n",
    "                          device: torch.device,\n",
    "                          class_names: list) -> None:\n",
    "    model.eval()\n",
    "    all_preds, all_labels = [], []\n",
    "\n",
    "    with torch.inference_mode():\n",
    "        for images, labels in tqdm(dataloader, desc='Predicting...'):\n",
    "            images, labels = images.to(device), labels.to(device)\n",
    "            outputs = model(images)\n",
    "            _, preds = torch.max(outputs, 1)\n",
    "            all_preds.extend(preds.cpu().numpy())\n",
    "            all_labels.extend(labels.cpu().numpy())\n",
    "\n",
    "    cm = confusion_matrix(all_labels, all_preds, labels=range(len(class_names)))\n",
    "    fig, ax = plt.subplots(figsize=(10, 10))\n",
    "    disp = ConfusionMatrixDisplay(confusion_matrix=cm, display_labels=class_names)\n",
    "    disp.plot(cmap='Blues', ax=ax)\n",
    "    plt.title('Confusion Matrix')\n",
    "    plt.show()"
   ]
  },
  {
   "cell_type": "code",
   "execution_count": 47,
   "metadata": {},
   "outputs": [
    {
     "name": "stderr",
     "output_type": "stream",
     "text": [
      "Predicting...: 100%|███████████████████| 16/16 [00:08<00:00,  1.82it/s]\n"
     ]
    },
    {
     "data": {
      "image/png": "[encoded data removed]",
      "text/plain": [
       "<Figure size 1000x1000 with 2 Axes>"
      ]
     },
     "metadata": {},
     "output_type": "display_data"
    }
   ],
   "source": [
    "# Plotting the confusion matrix\n",
    "plot_confusion_matrix(model, test_loader, device, class_names)"
   ]
  }
 ],
 "metadata": {
  "kernelspec": {
   "display_name": "Python 3 (ipykernel)",
   "language": "python",
   "name": "python3"
  }
 },
 "nbformat": 4,
 "nbformat_minor": 2
}
