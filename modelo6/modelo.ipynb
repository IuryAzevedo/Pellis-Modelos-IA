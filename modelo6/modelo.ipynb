{
 "cells": [
  {
   "cell_type": "code",
   "execution_count": 52,
   "metadata": {},
   "outputs": [],
   "source": [
    "import torch\n",
    "import torch.nn as nn\n",
    "import torch.optim as optim\n",
    "from torch.utils.data import DataLoader, random_split, WeightedRandomSampler\n",
    "import torchvision.transforms as transforms\n",
    "import torchvision.datasets as datasets\n",
    "from torchvision.models import resnet50, ResNet50_Weights, ConvNeXt_Tiny_Weights\n",
    "from sklearn.metrics import accuracy_score, precision_score, recall_score, f1_score, confusion_matrix\n",
    "import seaborn as sns\n",
    "import matplotlib.pyplot as plt\n",
    "from pathlib import Path\n",
    "import numpy as np\n",
    "import os\n",
    "from typing import Dict\n",
    "from torchvision.models import wide_resnet50_2, Wide_ResNet50_2_Weights\n",
    "import shutil"
   ]
  },
  {
   "cell_type": "code",
   "execution_count": 53,
   "metadata": {},
   "outputs": [],
   "source": [
    "# Data Augmentation for the training dataset\n",
    "train_transforms = transforms.Compose([\n",
    "    transforms.Resize((256, 256)),\n",
    "    # transforms.CenterCrop(224),\n",
    "    transforms.ToTensor(),\n",
    "    transforms.Normalize([0.485, 0.456, 0.406], [0.229, 0.224, 0.225])\n",
    "])\n",
    "\n",
    "# Data Augmentation for the test dataset\n",
    "test_transforms = transforms.Compose([\n",
    "    transforms.Resize((256, 256)),\n",
    "    # transforms.CenterCrop(224),\n",
    "    transforms.ToTensor(),\n",
    "    transforms.Normalize([0.485, 0.456, 0.406], [0.229, 0.224, 0.225])\n",
    "])"
   ]
  },
  {
   "cell_type": "code",
   "execution_count": 54,
   "metadata": {},
   "outputs": [],
   "source": [
    "train_dataset = datasets.ImageFolder(root='data/pellis_training/train', transform=train_transforms)\n",
    "test_dataset = datasets.ImageFolder(root='data/pellis_training/test', transform=test_transforms)"
   ]
  },
  {
   "cell_type": "code",
   "execution_count": 55,
   "metadata": {},
   "outputs": [
    {
     "ename": "ValueError",
     "evalue": "'a' cannot be empty unless no samples are taken",
     "output_type": "error",
     "traceback": [
      "\u001b[1;31m------------------------------------------------------------------------\u001b[0m",
      "\u001b[1;31mValueError\u001b[0m                             Traceback (most recent call last)",
      "Cell \u001b[1;32mIn[55], line 13\u001b[0m\n\u001b[0;32m     10\u001b[0m train_images \u001b[38;5;241m=\u001b[39m \u001b[38;5;28mlist\u001b[39m(train_dir_path\u001b[38;5;241m.\u001b[39mrglob(\u001b[38;5;124m'\u001b[39m\u001b[38;5;124m*/*.jpg\u001b[39m\u001b[38;5;124m'\u001b[39m))\n\u001b[0;32m     12\u001b[0m \u001b[38;5;66;03m# Seleciona uma imagem aleatoriamente\u001b[39;00m\n\u001b[1;32m---> 13\u001b[0m img_path \u001b[38;5;241m=\u001b[39m np\u001b[38;5;241m.\u001b[39mrandom\u001b[38;5;241m.\u001b[39mchoice(train_images)\n\u001b[0;32m     15\u001b[0m \u001b[38;5;66;03m# Carrega a imagem\u001b[39;00m\n\u001b[0;32m     16\u001b[0m img \u001b[38;5;241m=\u001b[39m Image\u001b[38;5;241m.\u001b[39mopen(img_path)\n",
      "File \u001b[1;32mnumpy\\\\random\\\\mtrand.pyx:951\u001b[0m, in \u001b[0;36mnumpy.random.mtrand.RandomState.choice\u001b[1;34m()\u001b[0m\n",
      "\u001b[1;31mValueError\u001b[0m: 'a' cannot be empty unless no samples are taken"
     ]
    }
   ],
   "source": [
    "from PIL import Image\n",
    "import matplotlib.pyplot as plt\n",
    "import numpy as np\n",
    "from pathlib import Path\n",
    "\n",
    "# Caminho para o diretório de treino\n",
    "train_dir_path = Path('/kaggle/input/dataset-original/pellis_training/train')\n",
    "\n",
    "# Lista de imagens no diretório de treino\n",
    "train_images = list(train_dir_path.rglob('*/*.jpg'))\n",
    "\n",
    "# Seleciona uma imagem aleatoriamente\n",
    "img_path = np.random.choice(train_images)\n",
    "\n",
    "# Carrega a imagem\n",
    "img = Image.open(img_path)\n",
    "\n",
    "# Obtendo o nome da classe\n",
    "class_name = img_path.parent.name\n",
    "\n",
    "# Exibe a imagem\n",
    "plt.imshow(img)\n",
    "plt.title(class_name)\n",
    "plt.axis('off')\n",
    "plt.show()\n"
   ]
  },
  {
   "cell_type": "code",
   "execution_count": null,
   "metadata": {},
   "outputs": [],
   "source": [
    "from PIL import Image\n",
    "import matplotlib.pyplot as plt\n",
    "import numpy as np\n",
    "from pathlib import Path\n",
    "\n",
    "# Caminho para o diretório de treino\n",
    "test_dir_path = Path('/kaggle/input/dataset-original/pellis_training/test')\n",
    "\n",
    "# Lista de imagens no diretório de treino\n",
    "test_images = list(test_dir_path.rglob('*/*.jpg'))\n",
    "\n",
    "# Seleciona uma imagem aleatoriamente\n",
    "img_path = np.random.choice(test_images)\n",
    "\n",
    "# Carrega a imagem\n",
    "img = Image.open(img_path)\n",
    "\n",
    "# Obtendo o nome da classe\n",
    "class_name = img_path.parent.name\n",
    "\n",
    "# Exibe a imagem\n",
    "plt.imshow(img)\n",
    "plt.title(class_name)\n",
    "plt.axis('off')\n",
    "plt.show()\n"
   ]
  },
  {
   "cell_type": "code",
   "execution_count": null,
   "metadata": {},
   "outputs": [],
   "source": [
    "img_array = np.array(img)\n",
    "\n",
    "# Plotting with matplotlib\n",
    "plt.imshow(img_array)\n",
    "plt.title(f'Image class: {class_name} | Image shape: {img_array.shape} -> (H, W, C)')\n",
    "plt.axis('off')"
   ]
  },
  {
   "cell_type": "code",
   "execution_count": null,
   "metadata": {},
   "outputs": [],
   "source": [
    "# Testing transforms on the image\n",
    "plt.figure(figsize=(10, 10))\n",
    "plt.subplot(1, 2, 1)\n",
    "plt.imshow(img)\n",
    "plt.axis('off')\n",
    "plt.title(f'Original Image | {img_array.shape} -> (H, W, C)')\n",
    "\n",
    "# Apply transforms\n",
    "img_tensor = train_transforms(img)\n",
    "img_tensor = img_tensor.numpy().transpose((1, 2, 0))\n",
    "plt.subplot(1, 2, 2)\n",
    "plt.imshow(img_tensor)\n",
    "plt.axis('off')\n",
    "plt.title(f'Transformed Image | {img_tensor.shape} -> (H, W, C)')\n",
    "plt.show()"
   ]
  },
  {
   "cell_type": "code",
   "execution_count": 56,
   "metadata": {},
   "outputs": [
    {
     "data": {
      "text/plain": [
       "['1', '2 profundo', '2 superficial', '3', 'Não queimadura']"
      ]
     },
     "execution_count": 56,
     "metadata": {},
     "output_type": "execute_result"
    }
   ],
   "source": [
    "# Getting class names from the training dataset as a list\n",
    "class_names = train_dataset.classes\n",
    "\n",
    "class_names"
   ]
  },
  {
   "cell_type": "code",
   "execution_count": 57,
   "metadata": {},
   "outputs": [
    {
     "name": "stdout",
     "output_type": "stream",
     "text": [
      "Unique labels in train_loader: {0, 1, 2, 3, 4}\n",
      "Unique labels in test_loader: {0}\n",
      "Number of classes in train_dataset: 5\n",
      "Class names: ['1', '2 profundo', '2 superficial', '3', 'Não queimadura']\n"
     ]
    }
   ],
   "source": [
    "BATCH_SIZE = 32\n",
    "NUM_WORKERS = os.cpu_count()\n",
    "\n",
    "# Cria os carregadores de dados\n",
    "train_loader = DataLoader(train_dataset,\n",
    "                          batch_size=BATCH_SIZE,\n",
    "                          shuffle=True,\n",
    "                          num_workers=NUM_WORKERS,\n",
    "                          pin_memory=True)\n",
    "\n",
    "test_loader = DataLoader(test_dataset,\n",
    "                         batch_size=BATCH_SIZE,\n",
    "                         shuffle=False,\n",
    "                         num_workers=NUM_WORKERS,\n",
    "                         pin_memory=True)\n",
    "\n",
    "# Inspecionar os rótulos no DataLoader\n",
    "for images, labels in train_loader:\n",
    "    unique_labels = set(labels.cpu().numpy())\n",
    "    print(f\"Unique labels in train_loader: {unique_labels}\")\n",
    "    break\n",
    "\n",
    "for images, labels in test_loader:\n",
    "    unique_labels = set(labels.cpu().numpy())\n",
    "    print(f\"Unique labels in test_loader: {unique_labels}\")\n",
    "    break\n",
    "\n",
    "print(f\"Number of classes in train_dataset: {len(train_dataset.classes)}\")\n",
    "print(f\"Class names: {train_dataset.classes}\")"
   ]
  },
  {
   "cell_type": "code",
   "execution_count": 58,
   "metadata": {},
   "outputs": [
    {
     "data": {
      "text/plain": [
       "(torch.Size([32, 3, 256, 256]), torch.Size([32]))"
      ]
     },
     "execution_count": 58,
     "metadata": {},
     "output_type": "execute_result"
    }
   ],
   "source": [
    "# Getting first batch of data\n",
    "img, label = next(iter(train_loader))\n",
    "\n",
    "# Checking the shape of the image and label\n",
    "img.shape, label.shape"
   ]
  },
  {
   "cell_type": "code",
   "execution_count": 59,
   "metadata": {},
   "outputs": [
    {
     "name": "stderr",
     "output_type": "stream",
     "text": [
      "Downloading: \"https://download.pytorch.org/models/densenet161-8d451a50.pth\" to C:\\Users\\VORTEX/.cache\\torch\\hub\\checkpoints\\densenet161-8d451a50.pth\n",
      "100%|███████████████████████████████| 110M/110M [00:08<00:00, 13.8MB/s]\n"
     ]
    }
   ],
   "source": [
    "from torchvision.models import densenet161, DenseNet161_Weights\n",
    "\n",
    "# Carrega os pesos do ImageNet\n",
    "weights = DenseNet161_Weights.IMAGENET1K_V1\n",
    "\n",
    "# Inicializa o modelo com os pesos\n",
    "model = densenet161(weights=weights)\n"
   ]
  },
  {
   "cell_type": "code",
   "execution_count": 66,
   "metadata": {},
   "outputs": [],
   "source": [
    "import torch.nn as nn\n",
    "\n",
    "# Congelar as camadas da ResNet50\n",
    "for param in model.parameters():\n",
    "    param.requires_grad = False\n",
    "\n",
    "# Se o modelo tiver só um Linear, pegue o .in_features diretamente\n",
    "num_ftrs = model.classifier.in_features\n",
    "num_classes = len(train_dataset.classes)\n",
    "\n",
    "class ModifiedConvNext(nn.Module):\n",
    "    def __init__(self, base_model, num_classes):\n",
    "        super(ModifiedConvNext, self).__init__()\n",
    "        self.base_model = base_model\n",
    "        self.base_model.classifier = nn.Identity()  # Remove the original classifier\n",
    "        self.flatten = nn.Flatten()\n",
    "        self.classifier = nn.Sequential(\n",
    "            nn.Linear(num_ftrs, 512),\n",
    "            nn.ReLU(),\n",
    "            nn.Dropout(0.4),\n",
    "            nn.Linear(512, 256),\n",
    "            nn.ReLU(),\n",
    "            nn.Dropout(0.4),\n",
    "            nn.Linear(256, num_classes),  # 3 classes para queimaduras de grau 1, 2 e 3\n",
    "        )\n",
    "\n",
    "    def forward(self, x):\n",
    "        x = self.base_model(x)\n",
    "        x = self.flatten(x)\n",
    "        x = self.classifier(x)\n",
    "        return x\n"
   ]
  },
  {
   "cell_type": "code",
   "execution_count": 67,
   "metadata": {},
   "outputs": [],
   "source": [
    "\n",
    "class YourModel(nn.Module):\n",
    "    def __init__(self):\n",
    "        super(YourModel, self).__init__()\n",
    "        # Outras camadas do teu modelo\n",
    "        self.flatten = nn.Flatten()\n",
    "        self.fc1 = nn.Linear(196608, 512)  # Ajusta esse valor conforme necessário\n",
    "        self.fc2 = nn.Linear(512, num_classes)  # num_classes é o número de classes que você tem\n",
    "\n",
    "    def forward(self, x):\n",
    "        # Passa por outras camadas do teu modelo\n",
    "        x = self.flatten(x)\n",
    "        x = self.fc1(x)\n",
    "        x = nn.ReLU()(x)\n",
    "        x = self.fc2(x)\n",
    "        return x\n"
   ]
  },
  {
   "cell_type": "code",
   "execution_count": 68,
   "metadata": {},
   "outputs": [],
   "source": [
    "import torch \n",
    "\n",
    "device = torch.device('cuda' if torch.cuda.is_available() else 'cpu')\n",
    "\n",
    "\n",
    "\n",
    "model = ModifiedConvNext(model, num_classes).to(device)\n"
   ]
  },
  {
   "cell_type": "code",
   "execution_count": 69,
   "metadata": {},
   "outputs": [],
   "source": [
    "def train_step(model: nn.Module,\n",
    "               dataloader: DataLoader,\n",
    "               loss_fn: nn.Module,\n",
    "               optimizer: optim.Optimizer,\n",
    "               device: torch.device) -> Dict[str, float]:\n",
    "    # Assuring that the model is in device (GPU or CPU)\n",
    "    model.to(device)\n",
    "\n",
    "    # Set the model to train mode\n",
    "    model.train()\n",
    "\n",
    "    # Initialize loss and metrics\n",
    "    train_loss, correct_predictions, total_predictions = 0.0, 0, 0\n",
    "    all_preds, all_labels = [], []\n",
    "\n",
    "    # Looping through the dataloader\n",
    "    for images, labels in dataloader:\n",
    "        # Move images and labels to the device\n",
    "        images, labels = images.to(device), labels.to(device)\n",
    "\n",
    "        # Forward pass\n",
    "        outputs = model(images)\n",
    "\n",
    "        # Calculate loss\n",
    "        loss = loss_fn(outputs, labels)\n",
    "        train_loss += loss.item()\n",
    "\n",
    "        # Zero the gradients\n",
    "        optimizer.zero_grad()\n",
    "\n",
    "        # Backward pass\n",
    "        loss.backward()\n",
    "\n",
    "        # Update weights\n",
    "        optimizer.step()\n",
    "\n",
    "        # Calculate the accuracy\n",
    "        _, preds = torch.max(outputs, 1)\n",
    "        correct_predictions += torch.sum(preds == labels.data).item()\n",
    "        total_predictions += len(preds)\n",
    "\n",
    "        # Collect predictions and labels for metrics\n",
    "        all_preds.extend(preds.cpu().numpy())\n",
    "        all_labels.extend(labels.cpu().numpy())\n",
    "\n",
    "    # Calculate the average loss and accuracy\n",
    "    train_loss /= len(dataloader)\n",
    "    train_accuracy = correct_predictions / total_predictions\n",
    "\n",
    "    # Calculate precision, recall, and F1 score\n",
    "    train_precision = precision_score(all_labels, all_preds, average='macro')\n",
    "    train_recall = recall_score(all_labels, all_preds, average='macro')\n",
    "    train_f1 = f1_score(all_labels, all_preds, average='macro')\n",
    "\n",
    "    return {\n",
    "        'train_loss': train_loss,\n",
    "        'train_accuracy': train_accuracy,\n",
    "        'train_precision': train_precision,\n",
    "        'train_recall': train_recall,\n",
    "        'train_f1': train_f1\n",
    "    }"
   ]
  },
  {
   "cell_type": "code",
   "execution_count": 70,
   "metadata": {},
   "outputs": [],
   "source": [
    "def testing_step(model: nn.Module,\n",
    "                 dataloader: DataLoader,\n",
    "                 loss_fn: nn.Module,\n",
    "                 device: torch.device) -> Dict[str, float]:\n",
    "    # Assuring that the model is in device (GPU or CPU)\n",
    "    model.to(device)\n",
    "\n",
    "    # Set the model to evaluation mode\n",
    "    model.eval()\n",
    "\n",
    "    # Initialize loss and metrics\n",
    "    test_loss, correct_predictions, total_predictions = 0.0, 0, 0\n",
    "    all_preds, all_labels = [], []\n",
    "\n",
    "    # Looping through the dataloader\n",
    "    with torch.inference_mode():\n",
    "        for images, labels in dataloader:\n",
    "            # Move images and labels to the device\n",
    "            images, labels = images.to(device), labels.to(device)\n",
    "\n",
    "            # Forward pass\n",
    "            outputs = model(images)\n",
    "\n",
    "            # Calculate loss\n",
    "            loss = loss_fn(outputs, labels)\n",
    "            test_loss += loss.item()\n",
    "\n",
    "            # Calculate the accuracy\n",
    "            _, preds = torch.max(outputs, 1)\n",
    "            correct_predictions += torch.sum(preds == labels.data).item()\n",
    "            total_predictions += len(preds)\n",
    "\n",
    "            # Collect predictions and labels for metrics\n",
    "            all_preds.extend(preds.cpu().numpy())\n",
    "            all_labels.extend(labels.cpu().numpy())\n",
    "\n",
    "    # Calculate the average loss and accuracy\n",
    "    test_loss /= len(dataloader)\n",
    "    test_accuracy = correct_predictions / total_predictions\n",
    "\n",
    "    # Calculate precision, recall, and F1 score\n",
    "    test_precision = precision_score(all_labels, all_preds, average='macro')\n",
    "    test_recall = recall_score(all_labels, all_preds, average='macro')\n",
    "    test_f1 = f1_score(all_labels, all_preds, average='macro')\n",
    "\n",
    "    return {\n",
    "        'test_loss': test_loss,\n",
    "        'test_accuracy': test_accuracy,\n",
    "        'test_precision': test_precision,\n",
    "        'test_recall': test_recall,\n",
    "        'test_f1': test_f1\n",
    "    }"
   ]
  },
  {
   "cell_type": "code",
   "execution_count": 71,
   "metadata": {},
   "outputs": [],
   "source": [
    "def training(model: nn.Module,\n",
    "             train_loader: DataLoader,\n",
    "             test_loader: DataLoader,\n",
    "             loss_fn: nn.Module,\n",
    "             optimizer: optim.Optimizer,\n",
    "             device: torch.device,\n",
    "             num_epochs: int) -> Dict[str, float]:\n",
    "    history = {\n",
    "        'train_loss': [],\n",
    "        'train_accuracy': [],\n",
    "        'train_precision': [],\n",
    "        'train_recall': [],\n",
    "        'train_f1': [],\n",
    "        'test_loss': [],\n",
    "        'test_accuracy': [],\n",
    "        'test_precision': [],\n",
    "        'test_recall': [],\n",
    "        'test_f1': []\n",
    "    }\n",
    "\n",
    "    for epoch in tqdm(range(num_epochs)):\n",
    "        train_results = train_step(model, train_loader, loss_fn, optimizer, device)\n",
    "        test_results = testing_step(model, test_loader, loss_fn, device)\n",
    "        \n",
    "        history['train_loss'].append(train_results['train_loss'])\n",
    "        history['train_accuracy'].append(train_results['train_accuracy'])\n",
    "        history['train_precision'].append(train_results['train_precision'])\n",
    "        history['train_recall'].append(train_results['train_recall'])\n",
    "        history['train_f1'].append(train_results['train_f1'])\n",
    "        \n",
    "        history['test_loss'].append(test_results['test_loss'])\n",
    "        history['test_accuracy'].append(test_results['test_accuracy'])\n",
    "        history['test_precision'].append(test_results['test_precision'])\n",
    "        history['test_recall'].append(test_results['test_recall'])\n",
    "        history['test_f1'].append(test_results['test_f1'])\n",
    "        \n",
    "        print(f'Epoch {epoch + 1}/{num_epochs}')\n",
    "        print('-' * 20)\n",
    "        print(f\"\"\"\n",
    "              Train Loss: {train_results['train_loss']:.4f}, \n",
    "              Train Accuracy: {train_results['train_accuracy']:.4f},\n",
    "              Train Precision: {train_results['train_precision']:.4f}, \n",
    "              Train Recall: {train_results['train_recall']:.4f}, \n",
    "              Train F1: {train_results['train_f1']:.4f}\n",
    "          \"\"\")\n",
    "        print(f\"\"\"\n",
    "              Test Loss: {test_results['test_loss']:.4f}, \n",
    "              Test Accuracy: {test_results['test_accuracy']:.4f}, \n",
    "              Test Precision: {test_results['test_precision']:.4f}, \n",
    "              Test Recall: {test_results['test_recall']:.4f}, \n",
    "              Test F1: {test_results['test_f1']:.4f}\n",
    "          \"\"\")\n",
    "        print()\n",
    "\n",
    "    return history"
   ]
  },
  {
   "cell_type": "code",
   "execution_count": 72,
   "metadata": {},
   "outputs": [
    {
     "name": "stdout",
     "output_type": "stream",
     "text": [
      "torch.Size([32, 3, 256, 256])\n"
     ]
    }
   ],
   "source": [
    "for images, labels in train_loader:\n",
    "    print(images.shape)\n",
    "    break\n"
   ]
  },
  {
   "cell_type": "code",
   "execution_count": 73,
   "metadata": {},
   "outputs": [
    {
     "name": "stderr",
     "output_type": "stream",
     "text": [
      "  0%|                                           | 0/30 [00:00<?, ?it/s]C:\\Users\\VORTEX\\anaconda3\\Lib\\site-packages\\sklearn\\metrics\\_classification.py:1344: UndefinedMetricWarning: Precision is ill-defined and being set to 0.0 in labels with no predicted samples. Use `zero_division` parameter to control this behavior.\n",
      "  _warn_prf(average, modifier, msg_start, len(result))\n",
      "  3%|█▏                                 | 1/30 [01:00<29:12, 60.43s/it]"
     ]
    },
    {
     "name": "stdout",
     "output_type": "stream",
     "text": [
      "Epoch 1/30\n",
      "--------------------\n",
      "\n",
      "              Train Loss: 1.3898, \n",
      "              Train Accuracy: 0.4332,\n",
      "              Train Precision: 0.2956, \n",
      "              Train Recall: 0.2424, \n",
      "              Train F1: 0.2121\n",
      "          \n",
      "\n",
      "              Test Loss: 1.2135, \n",
      "              Test Accuracy: 0.5039, \n",
      "              Test Precision: 0.3876, \n",
      "              Test Recall: 0.3887, \n",
      "              Test F1: 0.3719\n",
      "          \n",
      "\n"
     ]
    },
    {
     "name": "stderr",
     "output_type": "stream",
     "text": [
      "  7%|██▎                                | 2/30 [02:00<27:59, 59.99s/it]"
     ]
    },
    {
     "name": "stdout",
     "output_type": "stream",
     "text": [
      "Epoch 2/30\n",
      "--------------------\n",
      "\n",
      "              Train Loss: 1.1493, \n",
      "              Train Accuracy: 0.5206,\n",
      "              Train Precision: 0.4819, \n",
      "              Train Recall: 0.4031, \n",
      "              Train F1: 0.4210\n",
      "          \n",
      "\n",
      "              Test Loss: 1.0783, \n",
      "              Test Accuracy: 0.5276, \n",
      "              Test Precision: 0.4877, \n",
      "              Test Recall: 0.4205, \n",
      "              Test F1: 0.4051\n",
      "          \n",
      "\n"
     ]
    },
    {
     "name": "stderr",
     "output_type": "stream",
     "text": [
      "C:\\Users\\VORTEX\\anaconda3\\Lib\\site-packages\\sklearn\\metrics\\_classification.py:1344: UndefinedMetricWarning: Precision is ill-defined and being set to 0.0 in labels with no predicted samples. Use `zero_division` parameter to control this behavior.\n",
      "  _warn_prf(average, modifier, msg_start, len(result))\n",
      " 10%|███▌                               | 3/30 [02:59<26:49, 59.60s/it]"
     ]
    },
    {
     "name": "stdout",
     "output_type": "stream",
     "text": [
      "Epoch 3/30\n",
      "--------------------\n",
      "\n",
      "              Train Loss: 1.0855, \n",
      "              Train Accuracy: 0.5410,\n",
      "              Train Precision: 0.4868, \n",
      "              Train Recall: 0.4450, \n",
      "              Train F1: 0.4566\n",
      "          \n",
      "\n",
      "              Test Loss: 1.0880, \n",
      "              Test Accuracy: 0.5236, \n",
      "              Test Precision: 0.4229, \n",
      "              Test Recall: 0.4333, \n",
      "              Test F1: 0.3845\n",
      "          \n",
      "\n"
     ]
    },
    {
     "name": "stderr",
     "output_type": "stream",
     "text": [
      " 13%|████▋                              | 4/30 [03:58<25:46, 59.48s/it]"
     ]
    },
    {
     "name": "stdout",
     "output_type": "stream",
     "text": [
      "Epoch 4/30\n",
      "--------------------\n",
      "\n",
      "              Train Loss: 1.0085, \n",
      "              Train Accuracy: 0.5807,\n",
      "              Train Precision: 0.5452, \n",
      "              Train Recall: 0.5023, \n",
      "              Train F1: 0.5174\n",
      "          \n",
      "\n",
      "              Test Loss: 1.0716, \n",
      "              Test Accuracy: 0.5354, \n",
      "              Test Precision: 0.5304, \n",
      "              Test Recall: 0.3996, \n",
      "              Test F1: 0.4116\n",
      "          \n",
      "\n"
     ]
    },
    {
     "name": "stderr",
     "output_type": "stream",
     "text": [
      " 17%|█████▊                             | 5/30 [04:58<24:49, 59.59s/it]"
     ]
    },
    {
     "name": "stdout",
     "output_type": "stream",
     "text": [
      "Epoch 5/30\n",
      "--------------------\n",
      "\n",
      "              Train Loss: 0.9520, \n",
      "              Train Accuracy: 0.6061,\n",
      "              Train Precision: 0.5780, \n",
      "              Train Recall: 0.5272, \n",
      "              Train F1: 0.5459\n",
      "          \n",
      "\n",
      "              Test Loss: 1.0630, \n",
      "              Test Accuracy: 0.5276, \n",
      "              Test Precision: 0.5522, \n",
      "              Test Recall: 0.4198, \n",
      "              Test F1: 0.4413\n",
      "          \n",
      "\n"
     ]
    },
    {
     "name": "stderr",
     "output_type": "stream",
     "text": [
      " 20%|███████                            | 6/30 [05:57<23:49, 59.58s/it]"
     ]
    },
    {
     "name": "stdout",
     "output_type": "stream",
     "text": [
      "Epoch 6/30\n",
      "--------------------\n",
      "\n",
      "              Train Loss: 0.9324, \n",
      "              Train Accuracy: 0.6314,\n",
      "              Train Precision: 0.6122, \n",
      "              Train Recall: 0.5677, \n",
      "              Train F1: 0.5852\n",
      "          \n",
      "\n",
      "              Test Loss: 1.0136, \n",
      "              Test Accuracy: 0.5433, \n",
      "              Test Precision: 0.5055, \n",
      "              Test Recall: 0.4888, \n",
      "              Test F1: 0.4538\n",
      "          \n",
      "\n"
     ]
    },
    {
     "name": "stderr",
     "output_type": "stream",
     "text": [
      " 23%|████████▏                          | 7/30 [06:58<22:55, 59.79s/it]"
     ]
    },
    {
     "name": "stdout",
     "output_type": "stream",
     "text": [
      "Epoch 7/30\n",
      "--------------------\n",
      "\n",
      "              Train Loss: 0.9187, \n",
      "              Train Accuracy: 0.6180,\n",
      "              Train Precision: 0.5862, \n",
      "              Train Recall: 0.5500, \n",
      "              Train F1: 0.5635\n",
      "          \n",
      "\n",
      "              Test Loss: 1.0158, \n",
      "              Test Accuracy: 0.5669, \n",
      "              Test Precision: 0.5213, \n",
      "              Test Recall: 0.5602, \n",
      "              Test F1: 0.4882\n",
      "          \n",
      "\n"
     ]
    },
    {
     "name": "stderr",
     "output_type": "stream",
     "text": [
      " 27%|█████████▎                         | 8/30 [07:57<21:51, 59.63s/it]"
     ]
    },
    {
     "name": "stdout",
     "output_type": "stream",
     "text": [
      "Epoch 8/30\n",
      "--------------------\n",
      "\n",
      "              Train Loss: 0.8499, \n",
      "              Train Accuracy: 0.6518,\n",
      "              Train Precision: 0.6290, \n",
      "              Train Recall: 0.5963, \n",
      "              Train F1: 0.6060\n",
      "          \n",
      "\n",
      "              Test Loss: 1.0483, \n",
      "              Test Accuracy: 0.5650, \n",
      "              Test Precision: 0.4814, \n",
      "              Test Recall: 0.5544, \n",
      "              Test F1: 0.4816\n",
      "          \n",
      "\n"
     ]
    },
    {
     "name": "stderr",
     "output_type": "stream",
     "text": [
      " 30%|██████████▌                        | 9/30 [08:57<20:52, 59.65s/it]"
     ]
    },
    {
     "name": "stdout",
     "output_type": "stream",
     "text": [
      "Epoch 9/30\n",
      "--------------------\n",
      "\n",
      "              Train Loss: 0.8214, \n",
      "              Train Accuracy: 0.6642,\n",
      "              Train Precision: 0.6514, \n",
      "              Train Recall: 0.6146, \n",
      "              Train F1: 0.6291\n",
      "          \n",
      "\n",
      "              Test Loss: 0.9762, \n",
      "              Test Accuracy: 0.5886, \n",
      "              Test Precision: 0.5628, \n",
      "              Test Recall: 0.5878, \n",
      "              Test F1: 0.5729\n",
      "          \n",
      "\n"
     ]
    },
    {
     "name": "stderr",
     "output_type": "stream",
     "text": [
      " 33%|███████████▎                      | 10/30 [09:57<19:55, 59.77s/it]"
     ]
    },
    {
     "name": "stdout",
     "output_type": "stream",
     "text": [
      "Epoch 10/30\n",
      "--------------------\n",
      "\n",
      "              Train Loss: 0.7849, \n",
      "              Train Accuracy: 0.6910,\n",
      "              Train Precision: 0.6741, \n",
      "              Train Recall: 0.6489, \n",
      "              Train F1: 0.6588\n",
      "          \n",
      "\n",
      "              Test Loss: 1.0246, \n",
      "              Test Accuracy: 0.5689, \n",
      "              Test Precision: 0.5572, \n",
      "              Test Recall: 0.5632, \n",
      "              Test F1: 0.4993\n",
      "          \n",
      "\n"
     ]
    },
    {
     "name": "stderr",
     "output_type": "stream",
     "text": [
      " 37%|████████████▍                     | 11/30 [10:56<18:54, 59.74s/it]"
     ]
    },
    {
     "name": "stdout",
     "output_type": "stream",
     "text": [
      "Epoch 11/30\n",
      "--------------------\n",
      "\n",
      "              Train Loss: 0.7990, \n",
      "              Train Accuracy: 0.6885,\n",
      "              Train Precision: 0.6774, \n",
      "              Train Recall: 0.6378, \n",
      "              Train F1: 0.6541\n",
      "          \n",
      "\n",
      "              Test Loss: 1.0022, \n",
      "              Test Accuracy: 0.5807, \n",
      "              Test Precision: 0.5460, \n",
      "              Test Recall: 0.5871, \n",
      "              Test F1: 0.5532\n",
      "          \n",
      "\n"
     ]
    },
    {
     "name": "stderr",
     "output_type": "stream",
     "text": [
      " 40%|█████████████▌                    | 12/30 [11:56<17:54, 59.69s/it]"
     ]
    },
    {
     "name": "stdout",
     "output_type": "stream",
     "text": [
      "Epoch 12/30\n",
      "--------------------\n",
      "\n",
      "              Train Loss: 0.7330, \n",
      "              Train Accuracy: 0.7104,\n",
      "              Train Precision: 0.7033, \n",
      "              Train Recall: 0.6744, \n",
      "              Train F1: 0.6860\n",
      "          \n",
      "\n",
      "              Test Loss: 0.9900, \n",
      "              Test Accuracy: 0.5945, \n",
      "              Test Precision: 0.5704, \n",
      "              Test Recall: 0.5999, \n",
      "              Test F1: 0.5608\n",
      "          \n",
      "\n"
     ]
    },
    {
     "name": "stderr",
     "output_type": "stream",
     "text": [
      " 43%|██████████████▋                   | 13/30 [12:55<16:52, 59.58s/it]"
     ]
    },
    {
     "name": "stdout",
     "output_type": "stream",
     "text": [
      "Epoch 13/30\n",
      "--------------------\n",
      "\n",
      "              Train Loss: 0.7255, \n",
      "              Train Accuracy: 0.7273,\n",
      "              Train Precision: 0.7204, \n",
      "              Train Recall: 0.6866, \n",
      "              Train F1: 0.7015\n",
      "          \n",
      "\n",
      "              Test Loss: 0.9901, \n",
      "              Test Accuracy: 0.5984, \n",
      "              Test Precision: 0.5779, \n",
      "              Test Recall: 0.5091, \n",
      "              Test F1: 0.5250\n",
      "          \n",
      "\n"
     ]
    },
    {
     "name": "stderr",
     "output_type": "stream",
     "text": [
      " 47%|███████████████▊                  | 14/30 [13:54<15:51, 59.48s/it]"
     ]
    },
    {
     "name": "stdout",
     "output_type": "stream",
     "text": [
      "Epoch 14/30\n",
      "--------------------\n",
      "\n",
      "              Train Loss: 0.6846, \n",
      "              Train Accuracy: 0.7352,\n",
      "              Train Precision: 0.7281, \n",
      "              Train Recall: 0.7055, \n",
      "              Train F1: 0.7155\n",
      "          \n",
      "\n",
      "              Test Loss: 1.1111, \n",
      "              Test Accuracy: 0.5965, \n",
      "              Test Precision: 0.6049, \n",
      "              Test Recall: 0.4943, \n",
      "              Test F1: 0.5157\n",
      "          \n",
      "\n"
     ]
    },
    {
     "name": "stderr",
     "output_type": "stream",
     "text": [
      " 50%|█████████████████                 | 15/30 [14:54<14:53, 59.58s/it]"
     ]
    },
    {
     "name": "stdout",
     "output_type": "stream",
     "text": [
      "Epoch 15/30\n",
      "--------------------\n",
      "\n",
      "              Train Loss: 0.6477, \n",
      "              Train Accuracy: 0.7377,\n",
      "              Train Precision: 0.7301, \n",
      "              Train Recall: 0.6978, \n",
      "              Train F1: 0.7115\n",
      "          \n",
      "\n",
      "              Test Loss: 1.0385, \n",
      "              Test Accuracy: 0.5906, \n",
      "              Test Precision: 0.5781, \n",
      "              Test Recall: 0.5623, \n",
      "              Test F1: 0.5515\n",
      "          \n",
      "\n"
     ]
    },
    {
     "name": "stderr",
     "output_type": "stream",
     "text": [
      " 53%|██████████████████▏               | 16/30 [15:54<13:54, 59.60s/it]"
     ]
    },
    {
     "name": "stdout",
     "output_type": "stream",
     "text": [
      "Epoch 16/30\n",
      "--------------------\n",
      "\n",
      "              Train Loss: 0.6538, \n",
      "              Train Accuracy: 0.7407,\n",
      "              Train Precision: 0.7313, \n",
      "              Train Recall: 0.7140, \n",
      "              Train F1: 0.7214\n",
      "          \n",
      "\n",
      "              Test Loss: 0.9716, \n",
      "              Test Accuracy: 0.6004, \n",
      "              Test Precision: 0.5894, \n",
      "              Test Recall: 0.5619, \n",
      "              Test F1: 0.5617\n",
      "          \n",
      "\n"
     ]
    },
    {
     "name": "stderr",
     "output_type": "stream",
     "text": [
      " 57%|███████████████████▎              | 17/30 [16:53<12:54, 59.57s/it]"
     ]
    },
    {
     "name": "stdout",
     "output_type": "stream",
     "text": [
      "Epoch 17/30\n",
      "--------------------\n",
      "\n",
      "              Train Loss: 0.6591, \n",
      "              Train Accuracy: 0.7437,\n",
      "              Train Precision: 0.7351, \n",
      "              Train Recall: 0.7087, \n",
      "              Train F1: 0.7193\n",
      "          \n",
      "\n",
      "              Test Loss: 0.9812, \n",
      "              Test Accuracy: 0.5827, \n",
      "              Test Precision: 0.5609, \n",
      "              Test Recall: 0.5730, \n",
      "              Test F1: 0.5518\n",
      "          \n",
      "\n"
     ]
    },
    {
     "name": "stderr",
     "output_type": "stream",
     "text": [
      " 60%|████████████████████▍             | 18/30 [17:53<11:54, 59.53s/it]"
     ]
    },
    {
     "name": "stdout",
     "output_type": "stream",
     "text": [
      "Epoch 18/30\n",
      "--------------------\n",
      "\n",
      "              Train Loss: 0.6619, \n",
      "              Train Accuracy: 0.7447,\n",
      "              Train Precision: 0.7347, \n",
      "              Train Recall: 0.7146, \n",
      "              Train F1: 0.7233\n",
      "          \n",
      "\n",
      "              Test Loss: 0.9896, \n",
      "              Test Accuracy: 0.6142, \n",
      "              Test Precision: 0.5850, \n",
      "              Test Recall: 0.5873, \n",
      "              Test F1: 0.5839\n",
      "          \n",
      "\n"
     ]
    },
    {
     "name": "stderr",
     "output_type": "stream",
     "text": [
      " 63%|█████████████████████▌            | 19/30 [18:53<10:55, 59.57s/it]"
     ]
    },
    {
     "name": "stdout",
     "output_type": "stream",
     "text": [
      "Epoch 19/30\n",
      "--------------------\n",
      "\n",
      "              Train Loss: 0.5767, \n",
      "              Train Accuracy: 0.7700,\n",
      "              Train Precision: 0.7647, \n",
      "              Train Recall: 0.7326, \n",
      "              Train F1: 0.7471\n",
      "          \n",
      "\n",
      "              Test Loss: 1.0307, \n",
      "              Test Accuracy: 0.5807, \n",
      "              Test Precision: 0.5808, \n",
      "              Test Recall: 0.5496, \n",
      "              Test F1: 0.5554\n",
      "          \n",
      "\n"
     ]
    },
    {
     "name": "stderr",
     "output_type": "stream",
     "text": [
      " 67%|██████████████████████▋           | 20/30 [19:52<09:54, 59.43s/it]"
     ]
    },
    {
     "name": "stdout",
     "output_type": "stream",
     "text": [
      "Epoch 20/30\n",
      "--------------------\n",
      "\n",
      "              Train Loss: 0.6055, \n",
      "              Train Accuracy: 0.7601,\n",
      "              Train Precision: 0.7534, \n",
      "              Train Recall: 0.7287, \n",
      "              Train F1: 0.7399\n",
      "          \n",
      "\n",
      "              Test Loss: 1.0203, \n",
      "              Test Accuracy: 0.5945, \n",
      "              Test Precision: 0.5730, \n",
      "              Test Recall: 0.5760, \n",
      "              Test F1: 0.5664\n",
      "          \n",
      "\n"
     ]
    },
    {
     "name": "stderr",
     "output_type": "stream",
     "text": [
      " 70%|███████████████████████▊          | 21/30 [20:51<08:55, 59.52s/it]"
     ]
    },
    {
     "name": "stdout",
     "output_type": "stream",
     "text": [
      "Epoch 21/30\n",
      "--------------------\n",
      "\n",
      "              Train Loss: 0.6324, \n",
      "              Train Accuracy: 0.7437,\n",
      "              Train Precision: 0.7298, \n",
      "              Train Recall: 0.7159, \n",
      "              Train F1: 0.7222\n",
      "          \n",
      "\n",
      "              Test Loss: 1.0872, \n",
      "              Test Accuracy: 0.5925, \n",
      "              Test Precision: 0.6133, \n",
      "              Test Recall: 0.5121, \n",
      "              Test F1: 0.5319\n",
      "          \n",
      "\n"
     ]
    },
    {
     "name": "stderr",
     "output_type": "stream",
     "text": [
      " 73%|████████████████████████▉         | 22/30 [21:51<07:56, 59.58s/it]"
     ]
    },
    {
     "name": "stdout",
     "output_type": "stream",
     "text": [
      "Epoch 22/30\n",
      "--------------------\n",
      "\n",
      "              Train Loss: 0.5912, \n",
      "              Train Accuracy: 0.7620,\n",
      "              Train Precision: 0.7520, \n",
      "              Train Recall: 0.7311, \n",
      "              Train F1: 0.7404\n",
      "          \n",
      "\n",
      "              Test Loss: 1.1140, \n",
      "              Test Accuracy: 0.6102, \n",
      "              Test Precision: 0.6033, \n",
      "              Test Recall: 0.5635, \n",
      "              Test F1: 0.5765\n",
      "          \n",
      "\n"
     ]
    },
    {
     "name": "stderr",
     "output_type": "stream",
     "text": [
      " 77%|██████████████████████████        | 23/30 [22:51<06:57, 59.63s/it]"
     ]
    },
    {
     "name": "stdout",
     "output_type": "stream",
     "text": [
      "Epoch 23/30\n",
      "--------------------\n",
      "\n",
      "              Train Loss: 0.5938, \n",
      "              Train Accuracy: 0.7685,\n",
      "              Train Precision: 0.7695, \n",
      "              Train Recall: 0.7459, \n",
      "              Train F1: 0.7568\n",
      "          \n",
      "\n",
      "              Test Loss: 1.2072, \n",
      "              Test Accuracy: 0.5630, \n",
      "              Test Precision: 0.5468, \n",
      "              Test Recall: 0.5472, \n",
      "              Test F1: 0.5200\n",
      "          \n",
      "\n"
     ]
    },
    {
     "name": "stderr",
     "output_type": "stream",
     "text": [
      " 80%|███████████████████████████▏      | 24/30 [23:50<05:57, 59.64s/it]"
     ]
    },
    {
     "name": "stdout",
     "output_type": "stream",
     "text": [
      "Epoch 24/30\n",
      "--------------------\n",
      "\n",
      "              Train Loss: 0.5887, \n",
      "              Train Accuracy: 0.7675,\n",
      "              Train Precision: 0.7620, \n",
      "              Train Recall: 0.7434, \n",
      "              Train F1: 0.7513\n",
      "          \n",
      "\n",
      "              Test Loss: 1.0391, \n",
      "              Test Accuracy: 0.6260, \n",
      "              Test Precision: 0.6147, \n",
      "              Test Recall: 0.5837, \n",
      "              Test F1: 0.5947\n",
      "          \n",
      "\n"
     ]
    },
    {
     "name": "stderr",
     "output_type": "stream",
     "text": [
      " 83%|████████████████████████████▎     | 25/30 [24:50<04:58, 59.68s/it]"
     ]
    },
    {
     "name": "stdout",
     "output_type": "stream",
     "text": [
      "Epoch 25/30\n",
      "--------------------\n",
      "\n",
      "              Train Loss: 0.5721, \n",
      "              Train Accuracy: 0.7755,\n",
      "              Train Precision: 0.7730, \n",
      "              Train Recall: 0.7478, \n",
      "              Train F1: 0.7590\n",
      "          \n",
      "\n",
      "              Test Loss: 1.0737, \n",
      "              Test Accuracy: 0.6201, \n",
      "              Test Precision: 0.5974, \n",
      "              Test Recall: 0.6211, \n",
      "              Test F1: 0.6058\n",
      "          \n",
      "\n"
     ]
    },
    {
     "name": "stderr",
     "output_type": "stream",
     "text": [
      " 87%|█████████████████████████████▍    | 26/30 [25:50<03:58, 59.73s/it]"
     ]
    },
    {
     "name": "stdout",
     "output_type": "stream",
     "text": [
      "Epoch 26/30\n",
      "--------------------\n",
      "\n",
      "              Train Loss: 0.5083, \n",
      "              Train Accuracy: 0.8058,\n",
      "              Train Precision: 0.8030, \n",
      "              Train Recall: 0.7834, \n",
      "              Train F1: 0.7927\n",
      "          \n",
      "\n",
      "              Test Loss: 1.1525, \n",
      "              Test Accuracy: 0.5984, \n",
      "              Test Precision: 0.6057, \n",
      "              Test Recall: 0.5386, \n",
      "              Test F1: 0.5588\n",
      "          \n",
      "\n"
     ]
    },
    {
     "name": "stderr",
     "output_type": "stream",
     "text": [
      " 90%|██████████████████████████████▌   | 27/30 [26:49<02:58, 59.62s/it]"
     ]
    },
    {
     "name": "stdout",
     "output_type": "stream",
     "text": [
      "Epoch 27/30\n",
      "--------------------\n",
      "\n",
      "              Train Loss: 0.5102, \n",
      "              Train Accuracy: 0.7998,\n",
      "              Train Precision: 0.8006, \n",
      "              Train Recall: 0.7730, \n",
      "              Train F1: 0.7852\n",
      "          \n",
      "\n",
      "              Test Loss: 1.0951, \n",
      "              Test Accuracy: 0.6102, \n",
      "              Test Precision: 0.6046, \n",
      "              Test Recall: 0.5674, \n",
      "              Test F1: 0.5802\n",
      "          \n",
      "\n"
     ]
    },
    {
     "name": "stderr",
     "output_type": "stream",
     "text": [
      " 93%|███████████████████████████████▋  | 28/30 [27:49<01:58, 59.48s/it]"
     ]
    },
    {
     "name": "stdout",
     "output_type": "stream",
     "text": [
      "Epoch 28/30\n",
      "--------------------\n",
      "\n",
      "              Train Loss: 0.5135, \n",
      "              Train Accuracy: 0.7938,\n",
      "              Train Precision: 0.7851, \n",
      "              Train Recall: 0.7694, \n",
      "              Train F1: 0.7766\n",
      "          \n",
      "\n",
      "              Test Loss: 1.2070, \n",
      "              Test Accuracy: 0.5669, \n",
      "              Test Precision: 0.5361, \n",
      "              Test Recall: 0.5615, \n",
      "              Test F1: 0.5398\n",
      "          \n",
      "\n"
     ]
    },
    {
     "name": "stderr",
     "output_type": "stream",
     "text": [
      " 97%|████████████████████████████████▊ | 29/30 [28:48<00:59, 59.46s/it]"
     ]
    },
    {
     "name": "stdout",
     "output_type": "stream",
     "text": [
      "Epoch 29/30\n",
      "--------------------\n",
      "\n",
      "              Train Loss: 0.5136, \n",
      "              Train Accuracy: 0.7938,\n",
      "              Train Precision: 0.7918, \n",
      "              Train Recall: 0.7707, \n",
      "              Train F1: 0.7801\n",
      "          \n",
      "\n",
      "              Test Loss: 1.1683, \n",
      "              Test Accuracy: 0.5945, \n",
      "              Test Precision: 0.5704, \n",
      "              Test Recall: 0.5185, \n",
      "              Test F1: 0.5266\n",
      "          \n",
      "\n"
     ]
    },
    {
     "name": "stderr",
     "output_type": "stream",
     "text": [
      "100%|██████████████████████████████████| 30/30 [29:48<00:00, 59.61s/it]"
     ]
    },
    {
     "name": "stdout",
     "output_type": "stream",
     "text": [
      "Epoch 30/30\n",
      "--------------------\n",
      "\n",
      "              Train Loss: 0.5039, \n",
      "              Train Accuracy: 0.8122,\n",
      "              Train Precision: 0.8136, \n",
      "              Train Recall: 0.7868, \n",
      "              Train F1: 0.7992\n",
      "          \n",
      "\n",
      "              Test Loss: 1.1415, \n",
      "              Test Accuracy: 0.6063, \n",
      "              Test Precision: 0.5899, \n",
      "              Test Recall: 0.5501, \n",
      "              Test F1: 0.5657\n",
      "          \n",
      "\n",
      "Total training time: 29m 48s\n",
      "Training results:  {'train_loss': [1.3898487734416174, 1.1493332480627394, 1.085498367037092, 1.0084995863929627, 0.9519520695247348, 0.9324160785902114, 0.9186673779336233, 0.8498650893332467, 0.8214370740784539, 0.7848764965458522, 0.7989895883060637, 0.7329856800654578, 0.7255138116223472, 0.684566390892816, 0.647702812202393, 0.6537994931614588, 0.6590835319625007, 0.66187708008857, 0.5767369937329065, 0.6054830172705272, 0.6323692732387118, 0.5911786348100693, 0.5938494815712884, 0.5886973426455543, 0.5721216064596933, 0.5083359820502145, 0.5101561295607734, 0.5135461264659488, 0.5136456960250461, 0.5038978211463444], 'train_accuracy': [0.43318430203676106, 0.5206159960258321, 0.5409836065573771, 0.5807252856433184, 0.6060606060606061, 0.6313959264778937, 0.6179831097863885, 0.6517635370094387, 0.6641828117237953, 0.6910084451068058, 0.6885245901639344, 0.7103825136612022, 0.7272727272727273, 0.7352210630899155, 0.7377049180327869, 0.7406855439642325, 0.7436661698956781, 0.7446597118728266, 0.7699950322901142, 0.7600596125186289, 0.7436661698956781, 0.762046696472926, 0.7685047193243915, 0.767511177347243, 0.7754595131644312, 0.8057625434674615, 0.7998012916045703, 0.793840039741679, 0.793840039741679, 0.812220566318927], 'train_precision': [0.2956438869348429, 0.48186897782075694, 0.48676298947398466, 0.5452210316980357, 0.5780199695349971, 0.61219660842411, 0.5861781494552709, 0.6290036192015093, 0.6513542134952015, 0.6741113586413199, 0.677358442090082, 0.7032890986606452, 0.7203979334042776, 0.7281304042811753, 0.7301022355656344, 0.7313035360245114, 0.7351347846503521, 0.7347490303483101, 0.7646772903776361, 0.7534366225990878, 0.7297705565010986, 0.7519774458963652, 0.7694847210825032, 0.7620412126464258, 0.7729608096174505, 0.8029799617827752, 0.8005752216611082, 0.7851361280481604, 0.7918100753435116, 0.8135549227466958], 'train_recall': [0.24242610120243507, 0.40306917995850294, 0.44500835159169616, 0.5023274867544253, 0.527156437360951, 0.5677077115106499, 0.549953589819016, 0.5963176674090823, 0.6145951338039624, 0.6488691271038017, 0.6378478297844177, 0.6743570193875058, 0.6866233333602547, 0.7055186856980884, 0.6978082322881317, 0.7140163276330718, 0.7086669192419043, 0.7145675998704875, 0.732622427837886, 0.7287214411841223, 0.7158767284243934, 0.7310641910753587, 0.7459462502101397, 0.7434236702745503, 0.7477649942699613, 0.7833689817850595, 0.7729753249911865, 0.7694124510272482, 0.7706881262833505, 0.7867736361623472], 'train_f1': [0.2120843400155882, 0.4210086030519524, 0.4565761742329252, 0.5174069031659947, 0.5458581254562056, 0.5852085839984513, 0.5635449464123254, 0.6059604067966653, 0.6290871567520266, 0.6588313260636984, 0.6540911671054442, 0.6859513846399713, 0.7014867312065496, 0.7155016910779063, 0.7115411042970543, 0.721406032899407, 0.7193439619876412, 0.7233123023309831, 0.7470722945737107, 0.7398980244594846, 0.7221926555913429, 0.7404027846431751, 0.7567672949141553, 0.7512826017834412, 0.759020710950915, 0.7926666829786114, 0.7851634858296264, 0.7765606439029982, 0.7800817868415199, 0.7992002499751599], 'test_loss': [1.2135131172835827, 1.0783256217837334, 1.087998602539301, 1.0716121513396502, 1.0629570037126541, 1.0135503225028515, 1.0157800987362862, 1.0483278296887875, 0.976223312318325, 1.0245994441211224, 1.002205353230238, 0.9899600185453892, 0.9901145994663239, 1.1110846418887377, 1.0384852029383183, 0.97156647965312, 0.9811913557350636, 0.9896368309855461, 1.0307122990489006, 1.020287986844778, 1.0871632546186447, 1.113953247666359, 1.2071809470653534, 1.03905083052814, 1.0736942626535892, 1.1525190249085426, 1.095114130526781, 1.2070209048688412, 1.1682909280061722, 1.1414691898971796], 'test_accuracy': [0.5039370078740157, 0.5275590551181102, 0.5236220472440944, 0.5354330708661418, 0.5275590551181102, 0.5433070866141733, 0.5669291338582677, 0.5649606299212598, 0.5885826771653543, 0.5688976377952756, 0.5807086614173228, 0.594488188976378, 0.5984251968503937, 0.5964566929133859, 0.5905511811023622, 0.6003937007874016, 0.5826771653543307, 0.6141732283464567, 0.5807086614173228, 0.594488188976378, 0.59251968503937, 0.610236220472441, 0.562992125984252, 0.6259842519685039, 0.6200787401574803, 0.5984251968503937, 0.610236220472441, 0.5669291338582677, 0.594488188976378, 0.6062992125984252], 'test_precision': [0.3876255636039441, 0.48766741455266044, 0.4229397867428428, 0.5303687984966265, 0.5522250146665029, 0.5054633053221289, 0.5213449383964678, 0.48142529834520165, 0.562759403764846, 0.5572417294767085, 0.5459740125970401, 0.5704159663008459, 0.5779291358238727, 0.6048898626915375, 0.5780560234017859, 0.5894227228337792, 0.560859097127223, 0.5849624757423166, 0.5807688208791774, 0.5730411255411255, 0.6133247888228313, 0.6032763544738067, 0.546845900632807, 0.6147396811783604, 0.5974105954626524, 0.605731626961679, 0.604611273597063, 0.5361339493202344, 0.5704095967889071, 0.5899092019738025], 'test_recall': [0.3887129470262, 0.4204983391858552, 0.43334828676407755, 0.39958602393362713, 0.4197598295919239, 0.488756288239754, 0.5601749178409009, 0.5544151004558593, 0.5878183927876315, 0.5631549500941964, 0.5871346649685536, 0.5998810574957716, 0.5090520135252256, 0.49434305950583823, 0.562273877678902, 0.5618729087237162, 0.5729805001837814, 0.5873195856712903, 0.5496151848189788, 0.5760404603893453, 0.5120750614752152, 0.5634940233748231, 0.5471636970034817, 0.5837061450801517, 0.6210741310395245, 0.5385645045565578, 0.5673638763090185, 0.5615316042962799, 0.5184968377393397, 0.5500677346332307], 'test_f1': [0.37190090982606955, 0.40514133854247697, 0.3844794620467602, 0.41163667058973924, 0.44134930867274125, 0.4538348744205738, 0.48819673261778523, 0.48164597479813775, 0.5728785449289739, 0.4992537850181609, 0.55318904145582, 0.5607532265398394, 0.5249903519099948, 0.5157478343172592, 0.5515140254270688, 0.5617234870113398, 0.5517887941654758, 0.5839214870528887, 0.5553613523848714, 0.5664232327351778, 0.5319038160320737, 0.5764925041704789, 0.5199544753134819, 0.594749391844837, 0.605839589456738, 0.5588210437160636, 0.5802030786711198, 0.5397819498480573, 0.5265642249514331, 0.5656931535359343]}\n"
     ]
    },
    {
     "name": "stderr",
     "output_type": "stream",
     "text": [
      "\n"
     ]
    }
   ],
   "source": [
    "import torch\n",
    "import torch.nn as nn  # Importa o módulo nn aqui\n",
    "import torch.optim as optim\n",
    "from tqdm import tqdm\n",
    "\n",
    "\n",
    "# Define a função de perda\n",
    "loss_fn = nn.CrossEntropyLoss()\n",
    "\n",
    "# Adiciona isso no começo do código, junto com as outras importações\n",
    "from time import time\n",
    "\n",
    "optimizer = optim.Adam(model.parameters(), lr=0.001)\n",
    "\n",
    "# Training the model\n",
    "NUM_EPOCHS = 30\n",
    "start_time = time()\n",
    "model_results = training(model, train_loader, test_loader, loss_fn, optimizer, device, NUM_EPOCHS)\n",
    "end_time = time()\n",
    "\n",
    "total_time = end_time - start_time\n",
    "print(f'Total training time: {total_time // 60:.0f}m {total_time % 60:.0f}s')\n",
    "print(\"Training results: \", model_results)\n"
   ]
  },
  {
   "cell_type": "code",
   "execution_count": 74,
   "metadata": {},
   "outputs": [
    {
     "data": {
      "image/png": "[encoded data removed]",
      "text/plain": [
       "<Figure size 1000x600 with 1 Axes>"
      ]
     },
     "metadata": {},
     "output_type": "display_data"
    }
   ],
   "source": [
    "def plot_loss_curve(history: Dict[str, float]):\n",
    "    plt.figure(figsize=(10, 6))\n",
    "    plt.plot(history['train_loss'], label='Train Loss', marker='o')\n",
    "    plt.plot(history['test_loss'], label='Test Loss', marker='o')\n",
    "    plt.title('Loss Curve')\n",
    "    plt.xlabel('Epoch')\n",
    "    plt.ylabel('Loss')\n",
    "    plt.legend()\n",
    "    plt.grid(True)\n",
    "    plt.show()\n",
    "\n",
    "plot_loss_curve(model_results)\n"
   ]
  },
  {
   "cell_type": "code",
   "execution_count": 75,
   "metadata": {},
   "outputs": [],
   "source": [
    "from sklearn.metrics import ConfusionMatrixDisplay\n",
    "\n",
    "def plot_confusion_matrix(model: nn.Module,\n",
    "                          dataloader: DataLoader,\n",
    "                          device: torch.device,\n",
    "                          class_names: list) -> None:\n",
    "    model.eval()\n",
    "    all_preds, all_labels = [], []\n",
    "\n",
    "    with torch.inference_mode():\n",
    "        for images, labels in tqdm(dataloader, desc='Predicting...'):\n",
    "            images, labels = images.to(device), labels.to(device)\n",
    "            outputs = model(images)\n",
    "            _, preds = torch.max(outputs, 1)\n",
    "            all_preds.extend(preds.cpu().numpy())\n",
    "            all_labels.extend(labels.cpu().numpy())\n",
    "\n",
    "    cm = confusion_matrix(all_labels, all_preds, labels=range(len(class_names)))\n",
    "    fig, ax = plt.subplots(figsize=(10, 10))\n",
    "    disp = ConfusionMatrixDisplay(confusion_matrix=cm, display_labels=class_names)\n",
    "    disp.plot(cmap='Blues', ax=ax)\n",
    "    plt.title('Confusion Matrix')\n",
    "    plt.show()"
   ]
  },
  {
   "cell_type": "code",
   "execution_count": 76,
   "metadata": {},
   "outputs": [
    {
     "name": "stderr",
     "output_type": "stream",
     "text": [
      "Predicting...: 100%|███████████████████| 16/16 [00:08<00:00,  1.80it/s]\n"
     ]
    },
    {
     "data": {
      "image/png": "[encoded data removed]",
      "text/plain": [
       "<Figure size 1000x1000 with 2 Axes>"
      ]
     },
     "metadata": {},
     "output_type": "display_data"
    }
   ],
   "source": [
    "# Plotting the confusion matrix\n",
    "plot_confusion_matrix(model, test_loader, device, class_names)"
   ]
  }
 ],
 "metadata": {
  "kernelspec": {
   "display_name": "Python 3 (ipykernel)",
   "language": "python",
   "name": "python3"
  }
 },
 "nbformat": 4,
 "nbformat_minor": 2
}
