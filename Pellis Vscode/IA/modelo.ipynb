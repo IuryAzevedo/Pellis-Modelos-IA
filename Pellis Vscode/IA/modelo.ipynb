{
 "cells": [
  {
   "cell_type": "code",
   "execution_count": 54,
   "metadata": {},
   "outputs": [],
   "source": [
    "import torch\n",
    "import torch.nn as nn\n",
    "import torch.optim as optim\n",
    "from torch.utils.data import DataLoader, random_split, WeightedRandomSampler\n",
    "import torchvision.transforms as transforms\n",
    "import torchvision.datasets as datasets\n",
    "from torchvision.models import resnet50, ResNet50_Weights\n",
    "from sklearn.metrics import accuracy_score, precision_score, recall_score, f1_score, confusion_matrix\n",
    "import seaborn as sns\n",
    "import matplotlib.pyplot as plt\n",
    "from pathlib import Path\n",
    "import numpy as np\n",
    "import os\n",
    "from typing import Dict\n",
    "from torchvision.models import wide_resnet50_2, Wide_ResNet50_2_Weights\n",
    "import shutil"
   ]
  },
  {
   "cell_type": "code",
   "execution_count": null,
   "metadata": {},
   "outputs": [
    {
     "ename": "",
     "evalue": "",
     "output_type": "error",
     "traceback": [
      "\u001b[1;31mnotebook controller is DISPOSED. \n",
      "\u001b[1;31mConsulte o <a href='command:jupyter.viewOutput'>log</a> do Jupyter para obter mais detalhes."
     ]
    }
   ],
   "source": [
    "# Data Augmentation for the training dataset\n",
    "train_transforms = transforms.Compose([\n",
    "    transforms.Resize((256, 256)),\n",
    "    # transforms.CenterCrop(224),\n",
    "    transforms.ToTensor(),\n",
    "    transforms.Normalize([0.485, 0.456, 0.406], [0.229, 0.224, 0.225])\n",
    "])\n",
    "\n",
    "# Data Augmentation for the test dataset\n",
    "test_transforms = transforms.Compose([\n",
    "    transforms.Resize((256, 256)),\n",
    "    # transforms.CenterCrop(224),\n",
    "    transforms.ToTensor(),\n",
    "    transforms.Normalize([0.485, 0.456, 0.406], [0.229, 0.224, 0.225])\n",
    "])"
   ]
  },
  {
   "cell_type": "code",
   "execution_count": null,
   "metadata": {},
   "outputs": [
    {
     "ename": "",
     "evalue": "",
     "output_type": "error",
     "traceback": [
      "\u001b[1;31mnotebook controller is DISPOSED. \n",
      "\u001b[1;31mConsulte o <a href='command:jupyter.viewOutput'>log</a> do Jupyter para obter mais detalhes."
     ]
    }
   ],
   "source": [
    "train_dataset = datasets.ImageFolder(root='data/pellis_training/train', transform=train_transforms)\n",
    "test_dataset = datasets.ImageFolder(root='data/pellis_training/test', transform=test_transforms)"
   ]
  },
  {
   "cell_type": "code",
   "execution_count": null,
   "metadata": {},
   "outputs": [
    {
     "ename": "ValueError",
     "evalue": "'a' cannot be empty unless no samples are taken",
     "output_type": "error",
     "traceback": [
      "\u001b[1;31m------------------------------------------------------------------------\u001b[0m",
      "\u001b[1;31mValueError\u001b[0m                             Traceback (most recent call last)",
      "Cell \u001b[1;32mIn[25], line 13\u001b[0m\n\u001b[0;32m     10\u001b[0m train_images \u001b[38;5;241m=\u001b[39m \u001b[38;5;28mlist\u001b[39m(train_dir_path\u001b[38;5;241m.\u001b[39mrglob(\u001b[38;5;124m'\u001b[39m\u001b[38;5;124m*/*.jpg\u001b[39m\u001b[38;5;124m'\u001b[39m))\n\u001b[0;32m     12\u001b[0m \u001b[38;5;66;03m# Seleciona uma imagem aleatoriamente\u001b[39;00m\n\u001b[1;32m---> 13\u001b[0m img_path \u001b[38;5;241m=\u001b[39m np\u001b[38;5;241m.\u001b[39mrandom\u001b[38;5;241m.\u001b[39mchoice(train_images)\n\u001b[0;32m     15\u001b[0m \u001b[38;5;66;03m# Carrega a imagem\u001b[39;00m\n\u001b[0;32m     16\u001b[0m img \u001b[38;5;241m=\u001b[39m Image\u001b[38;5;241m.\u001b[39mopen(img_path)\n",
      "File \u001b[1;32mnumpy\\\\random\\\\mtrand.pyx:951\u001b[0m, in \u001b[0;36mnumpy.random.mtrand.RandomState.choice\u001b[1;34m()\u001b[0m\n",
      "\u001b[1;31mValueError\u001b[0m: 'a' cannot be empty unless no samples are taken"
     ]
    },
    {
     "ename": "",
     "evalue": "",
     "output_type": "error",
     "traceback": [
      "\u001b[1;31mnotebook controller is DISPOSED. \n",
      "\u001b[1;31mConsulte o <a href='command:jupyter.viewOutput'>log</a> do Jupyter para obter mais detalhes."
     ]
    }
   ],
   "source": [
    "from PIL import Image\n",
    "import matplotlib.pyplot as plt\n",
    "import numpy as np\n",
    "from pathlib import Path\n",
    "\n",
    "# Caminho para o diretório de treino\n",
    "train_dir_path = Path('/kaggle/input/dataset-original/pellis_training/train')\n",
    "\n",
    "# Lista de imagens no diretório de treino\n",
    "train_images = list(train_dir_path.rglob('*/*.jpg'))\n",
    "\n",
    "# Seleciona uma imagem aleatoriamente\n",
    "img_path = np.random.choice(train_images)\n",
    "\n",
    "# Carrega a imagem\n",
    "img = Image.open(img_path)\n",
    "\n",
    "# Obtendo o nome da classe\n",
    "class_name = img_path.parent.name\n",
    "\n",
    "# Exibe a imagem\n",
    "plt.imshow(img)\n",
    "plt.title(class_name)\n",
    "plt.axis('off')\n",
    "plt.show()\n"
   ]
  },
  {
   "cell_type": "code",
   "execution_count": null,
   "metadata": {},
   "outputs": [
    {
     "ename": "ValueError",
     "evalue": "'a' cannot be empty unless no samples are taken",
     "output_type": "error",
     "traceback": [
      "\u001b[1;31m------------------------------------------------------------------------\u001b[0m",
      "\u001b[1;31mValueError\u001b[0m                             Traceback (most recent call last)",
      "Cell \u001b[1;32mIn[11], line 13\u001b[0m\n\u001b[0;32m     10\u001b[0m test_images \u001b[38;5;241m=\u001b[39m \u001b[38;5;28mlist\u001b[39m(test_dir_path\u001b[38;5;241m.\u001b[39mrglob(\u001b[38;5;124m'\u001b[39m\u001b[38;5;124m*/*.jpg\u001b[39m\u001b[38;5;124m'\u001b[39m))\n\u001b[0;32m     12\u001b[0m \u001b[38;5;66;03m# Seleciona uma imagem aleatoriamente\u001b[39;00m\n\u001b[1;32m---> 13\u001b[0m img_path \u001b[38;5;241m=\u001b[39m np\u001b[38;5;241m.\u001b[39mrandom\u001b[38;5;241m.\u001b[39mchoice(test_images)\n\u001b[0;32m     15\u001b[0m \u001b[38;5;66;03m# Carrega a imagem\u001b[39;00m\n\u001b[0;32m     16\u001b[0m img \u001b[38;5;241m=\u001b[39m Image\u001b[38;5;241m.\u001b[39mopen(img_path)\n",
      "File \u001b[1;32mnumpy\\\\random\\\\mtrand.pyx:951\u001b[0m, in \u001b[0;36mnumpy.random.mtrand.RandomState.choice\u001b[1;34m()\u001b[0m\n",
      "\u001b[1;31mValueError\u001b[0m: 'a' cannot be empty unless no samples are taken"
     ]
    },
    {
     "ename": "",
     "evalue": "",
     "output_type": "error",
     "traceback": [
      "\u001b[1;31mnotebook controller is DISPOSED. \n",
      "\u001b[1;31mConsulte o <a href='command:jupyter.viewOutput'>log</a> do Jupyter para obter mais detalhes."
     ]
    }
   ],
   "source": [
    "from PIL import Image\n",
    "import matplotlib.pyplot as plt\n",
    "import numpy as np\n",
    "from pathlib import Path\n",
    "\n",
    "# Caminho para o diretório de treino\n",
    "test_dir_path = Path('/kaggle/input/dataset-original/pellis_training/test')\n",
    "\n",
    "# Lista de imagens no diretório de treino\n",
    "test_images = list(test_dir_path.rglob('*/*.jpg'))\n",
    "\n",
    "# Seleciona uma imagem aleatoriamente\n",
    "img_path = np.random.choice(test_images)\n",
    "\n",
    "# Carrega a imagem\n",
    "img = Image.open(img_path)\n",
    "\n",
    "# Obtendo o nome da classe\n",
    "class_name = img_path.parent.name\n",
    "\n",
    "# Exibe a imagem\n",
    "plt.imshow(img)\n",
    "plt.title(class_name)\n",
    "plt.axis('off')\n",
    "plt.show()\n"
   ]
  },
  {
   "cell_type": "code",
   "execution_count": null,
   "metadata": {},
   "outputs": [
    {
     "ename": "",
     "evalue": "",
     "output_type": "error",
     "traceback": [
      "\u001b[1;31mnotebook controller is DISPOSED. \n",
      "\u001b[1;31mConsulte o <a href='command:jupyter.viewOutput'>log</a> do Jupyter para obter mais detalhes."
     ]
    }
   ],
   "source": [
    "img_array = np.array(img)\n",
    "\n",
    "# Plotting with matplotlib\n",
    "plt.imshow(img_array)\n",
    "plt.title(f'Image class: {class_name} | Image shape: {img_array.shape} -> (H, W, C)')\n",
    "plt.axis('off')"
   ]
  },
  {
   "cell_type": "code",
   "execution_count": null,
   "metadata": {},
   "outputs": [
    {
     "ename": "",
     "evalue": "",
     "output_type": "error",
     "traceback": [
      "\u001b[1;31mnotebook controller is DISPOSED. \n",
      "\u001b[1;31mConsulte o <a href='command:jupyter.viewOutput'>log</a> do Jupyter para obter mais detalhes."
     ]
    }
   ],
   "source": [
    "# Testing transforms on the image\n",
    "plt.figure(figsize=(10, 10))\n",
    "plt.subplot(1, 2, 1)\n",
    "plt.imshow(img)\n",
    "plt.axis('off')\n",
    "plt.title(f'Original Image | {img_array.shape} -> (H, W, C)')\n",
    "\n",
    "# Apply transforms\n",
    "img_tensor = train_transforms(img)\n",
    "img_tensor = img_tensor.numpy().transpose((1, 2, 0))\n",
    "plt.subplot(1, 2, 2)\n",
    "plt.imshow(img_tensor)\n",
    "plt.axis('off')\n",
    "plt.title(f'Transformed Image | {img_tensor.shape} -> (H, W, C)')\n",
    "plt.show()"
   ]
  },
  {
   "cell_type": "code",
   "execution_count": null,
   "metadata": {},
   "outputs": [
    {
     "data": {
      "text/plain": [
       "['1', '2 profundo', '2 superficial', '3', 'Não queimadura']"
      ]
     },
     "execution_count": 38,
     "metadata": {},
     "output_type": "execute_result"
    },
    {
     "ename": "",
     "evalue": "",
     "output_type": "error",
     "traceback": [
      "\u001b[1;31mnotebook controller is DISPOSED. \n",
      "\u001b[1;31mConsulte o <a href='command:jupyter.viewOutput'>log</a> do Jupyter para obter mais detalhes."
     ]
    }
   ],
   "source": [
    "# Getting class names from the training dataset as a list\n",
    "class_names = train_dataset.classes\n",
    "\n",
    "class_names"
   ]
  },
  {
   "cell_type": "code",
   "execution_count": null,
   "metadata": {},
   "outputs": [
    {
     "name": "stdout",
     "output_type": "stream",
     "text": [
      "Unique labels in train_loader: {0, 1, 2, 3}\n",
      "Unique labels in test_loader: {0}\n",
      "Number of classes in train_dataset: 5\n",
      "Class names: ['1', '2 profundo', '2 superficial', '3', 'Não queimadura']\n"
     ]
    },
    {
     "ename": "",
     "evalue": "",
     "output_type": "error",
     "traceback": [
      "\u001b[1;31mnotebook controller is DISPOSED. \n",
      "\u001b[1;31mConsulte o <a href='command:jupyter.viewOutput'>log</a> do Jupyter para obter mais detalhes."
     ]
    }
   ],
   "source": [
    "BATCH_SIZE = 32\n",
    "NUM_WORKERS = os.cpu_count()\n",
    "\n",
    "# Cria os carregadores de dados\n",
    "train_loader = DataLoader(train_dataset,\n",
    "                          batch_size=BATCH_SIZE,\n",
    "                          shuffle=True,\n",
    "                          num_workers=NUM_WORKERS,\n",
    "                          pin_memory=True)\n",
    "\n",
    "test_loader = DataLoader(test_dataset,\n",
    "                         batch_size=BATCH_SIZE,\n",
    "                         shuffle=False,\n",
    "                         num_workers=NUM_WORKERS,\n",
    "                         pin_memory=True)\n",
    "\n",
    "# Inspecionar os rótulos no DataLoader\n",
    "for images, labels in train_loader:\n",
    "    unique_labels = set(labels.cpu().numpy())\n",
    "    print(f\"Unique labels in train_loader: {unique_labels}\")\n",
    "    break\n",
    "\n",
    "for images, labels in test_loader:\n",
    "    unique_labels = set(labels.cpu().numpy())\n",
    "    print(f\"Unique labels in test_loader: {unique_labels}\")\n",
    "    break\n",
    "\n",
    "print(f\"Number of classes in train_dataset: {len(train_dataset.classes)}\")\n",
    "print(f\"Class names: {train_dataset.classes}\")"
   ]
  },
  {
   "cell_type": "code",
   "execution_count": null,
   "metadata": {},
   "outputs": [
    {
     "data": {
      "text/plain": [
       "(torch.Size([32, 3, 256, 256]), torch.Size([32]))"
      ]
     },
     "execution_count": 40,
     "metadata": {},
     "output_type": "execute_result"
    },
    {
     "ename": "",
     "evalue": "",
     "output_type": "error",
     "traceback": [
      "\u001b[1;31mnotebook controller is DISPOSED. \n",
      "\u001b[1;31mConsulte o <a href='command:jupyter.viewOutput'>log</a> do Jupyter para obter mais detalhes."
     ]
    }
   ],
   "source": [
    "# Getting first batch of data\n",
    "img, label = next(iter(train_loader))\n",
    "\n",
    "# Checking the shape of the image and label\n",
    "img.shape, label.shape"
   ]
  },
  {
   "cell_type": "code",
   "execution_count": null,
   "metadata": {},
   "outputs": [
    {
     "ename": "",
     "evalue": "",
     "output_type": "error",
     "traceback": [
      "\u001b[1;31mnotebook controller is DISPOSED. \n",
      "\u001b[1;31mConsulte o <a href='command:jupyter.viewOutput'>log</a> do Jupyter para obter mais detalhes."
     ]
    }
   ],
   "source": [
    "from torchvision.models import convnext_small, ConvNeXt_Small_Weights\n",
    "\n",
    "# Carrega os pesos do ImageNet\n",
    "weights = ConvNeXt_Small_Weights.IMAGENET1K_V1\n",
    "\n",
    "# Inicializa o modelo com os pesos\n",
    "model = convnext_small(weights=weights)\n"
   ]
  },
  {
   "cell_type": "code",
   "execution_count": null,
   "metadata": {},
   "outputs": [
    {
     "ename": "",
     "evalue": "",
     "output_type": "error",
     "traceback": [
      "\u001b[1;31mnotebook controller is DISPOSED. \n",
      "\u001b[1;31mConsulte o <a href='command:jupyter.viewOutput'>log</a> do Jupyter para obter mais detalhes."
     ]
    }
   ],
   "source": [
    "\n",
    "# Congelar as camadas da ResNet50\n",
    "for param in model.parameters():\n",
    "    param.requires_grad = False\n",
    "\n",
    "num_ftrs = model.classifier[-1].in_features\n",
    "\n",
    "class ModifiedConvNext(nn.Module):\n",
    "    def __init__(self, base_model, num_classes):\n",
    "        super(ModifiedConvNext, self).__init__()\n",
    "        self.base_model = base_model\n",
    "        self.base_model.classifier = nn.Identity()  # Remove the original classifier\n",
    "        self.flatten = nn.Flatten()\n",
    "        self.classifier = nn.Sequential(\n",
    "            nn.Linear(num_ftrs, 512),\n",
    "            nn.ReLU(),\n",
    "            nn.Dropout(0.4),\n",
    "            nn.Linear(512, 256),\n",
    "            nn.ReLU(),\n",
    "            nn.Dropout(0.4),\n",
    "            nn.Linear(256, num_classes),  # 3 classes para queimaduras de grau 1, 2 e 3\n",
    "        )\n",
    "\n",
    "    def forward(self, x):\n",
    "        x = self.base_model(x)\n",
    "        x = self.flatten(x)\n",
    "        x = self.classifier(x)\n",
    "        return x\n",
    "\n"
   ]
  },
  {
   "cell_type": "code",
   "execution_count": null,
   "metadata": {},
   "outputs": [
    {
     "ename": "",
     "evalue": "",
     "output_type": "error",
     "traceback": [
      "\u001b[1;31mnotebook controller is DISPOSED. \n",
      "\u001b[1;31mConsulte o <a href='command:jupyter.viewOutput'>log</a> do Jupyter para obter mais detalhes."
     ]
    }
   ],
   "source": [
    "\n",
    "class YourModel(nn.Module):\n",
    "    def __init__(self):\n",
    "        super(YourModel, self).__init__()\n",
    "        # Outras camadas do teu modelo\n",
    "        self.flatten = nn.Flatten()\n",
    "        self.fc1 = nn.Linear(196608, 512)  # Ajusta esse valor conforme necessário\n",
    "        self.fc2 = nn.Linear(512, num_classes)  # num_classes é o número de classes que você tem\n",
    "\n",
    "    def forward(self, x):\n",
    "        # Passa por outras camadas do teu modelo\n",
    "        x = self.flatten(x)\n",
    "        x = self.fc1(x)\n",
    "        x = nn.ReLU()(x)\n",
    "        x = self.fc2(x)\n",
    "        return x\n"
   ]
  },
  {
   "cell_type": "code",
   "execution_count": null,
   "metadata": {},
   "outputs": [
    {
     "ename": "",
     "evalue": "",
     "output_type": "error",
     "traceback": [
      "\u001b[1;31mnotebook controller is DISPOSED. \n",
      "\u001b[1;31mConsulte o <a href='command:jupyter.viewOutput'>log</a> do Jupyter para obter mais detalhes."
     ]
    }
   ],
   "source": [
    "model = ModifiedConvNext(model, num_classes).to(device)\n"
   ]
  },
  {
   "cell_type": "code",
   "execution_count": null,
   "metadata": {},
   "outputs": [
    {
     "ename": "",
     "evalue": "",
     "output_type": "error",
     "traceback": [
      "\u001b[1;31mnotebook controller is DISPOSED. \n",
      "\u001b[1;31mConsulte o <a href='command:jupyter.viewOutput'>log</a> do Jupyter para obter mais detalhes."
     ]
    }
   ],
   "source": [
    "# import os\n",
    "# os.environ['CUDA_LAUNCH_BLOCKING'] = \"1\"\n",
    "\n",
    "# device = torch.device(\"cuda\" if torch.cuda.is_available() else \"cpu\")\n",
    "# print(device)\n",
    "\n",
    "# model = model.to(device)"
   ]
  },
  {
   "cell_type": "code",
   "execution_count": null,
   "metadata": {},
   "outputs": [
    {
     "ename": "",
     "evalue": "",
     "output_type": "error",
     "traceback": [
      "\u001b[1;31mnotebook controller is DISPOSED. \n",
      "\u001b[1;31mConsulte o <a href='command:jupyter.viewOutput'>log</a> do Jupyter para obter mais detalhes."
     ]
    }
   ],
   "source": [
    "def train_step(model: nn.Module,\n",
    "               dataloader: DataLoader,\n",
    "               loss_fn: nn.Module,\n",
    "               optimizer: optim.Optimizer,\n",
    "               device: torch.device) -> Dict[str, float]:\n",
    "    # Assuring that the model is in device (GPU or CPU)\n",
    "    model.to(device)\n",
    "\n",
    "    # Set the model to train mode\n",
    "    model.train()\n",
    "\n",
    "    # Initialize loss and metrics\n",
    "    train_loss, correct_predictions, total_predictions = 0.0, 0, 0\n",
    "    all_preds, all_labels = [], []\n",
    "\n",
    "    # Looping through the dataloader\n",
    "    for images, labels in dataloader:\n",
    "        # Move images and labels to the device\n",
    "        images, labels = images.to(device), labels.to(device)\n",
    "\n",
    "        # Forward pass\n",
    "        outputs = model(images)\n",
    "\n",
    "        # Calculate loss\n",
    "        loss = loss_fn(outputs, labels)\n",
    "        train_loss += loss.item()\n",
    "\n",
    "        # Zero the gradients\n",
    "        optimizer.zero_grad()\n",
    "\n",
    "        # Backward pass\n",
    "        loss.backward()\n",
    "\n",
    "        # Update weights\n",
    "        optimizer.step()\n",
    "\n",
    "        # Calculate the accuracy\n",
    "        _, preds = torch.max(outputs, 1)\n",
    "        correct_predictions += torch.sum(preds == labels.data).item()\n",
    "        total_predictions += len(preds)\n",
    "\n",
    "        # Collect predictions and labels for metrics\n",
    "        all_preds.extend(preds.cpu().numpy())\n",
    "        all_labels.extend(labels.cpu().numpy())\n",
    "\n",
    "    # Calculate the average loss and accuracy\n",
    "    train_loss /= len(dataloader)\n",
    "    train_accuracy = correct_predictions / total_predictions\n",
    "\n",
    "    # Calculate precision, recall, and F1 score\n",
    "    train_precision = precision_score(all_labels, all_preds, average='macro')\n",
    "    train_recall = recall_score(all_labels, all_preds, average='macro')\n",
    "    train_f1 = f1_score(all_labels, all_preds, average='macro')\n",
    "\n",
    "    return {\n",
    "        'train_loss': train_loss,\n",
    "        'train_accuracy': train_accuracy,\n",
    "        'train_precision': train_precision,\n",
    "        'train_recall': train_recall,\n",
    "        'train_f1': train_f1\n",
    "    }"
   ]
  },
  {
   "cell_type": "code",
   "execution_count": null,
   "metadata": {},
   "outputs": [
    {
     "ename": "",
     "evalue": "",
     "output_type": "error",
     "traceback": [
      "\u001b[1;31mnotebook controller is DISPOSED. \n",
      "\u001b[1;31mConsulte o <a href='command:jupyter.viewOutput'>log</a> do Jupyter para obter mais detalhes."
     ]
    }
   ],
   "source": [
    "def testing_step(model: nn.Module,\n",
    "                 dataloader: DataLoader,\n",
    "                 loss_fn: nn.Module,\n",
    "                 device: torch.device) -> Dict[str, float]:\n",
    "    # Assuring that the model is in device (GPU or CPU)\n",
    "    model.to(device)\n",
    "\n",
    "    # Set the model to evaluation mode\n",
    "    model.eval()\n",
    "\n",
    "    # Initialize loss and metrics\n",
    "    test_loss, correct_predictions, total_predictions = 0.0, 0, 0\n",
    "    all_preds, all_labels = [], []\n",
    "\n",
    "    # Looping through the dataloader\n",
    "    with torch.inference_mode():\n",
    "        for images, labels in dataloader:\n",
    "            # Move images and labels to the device\n",
    "            images, labels = images.to(device), labels.to(device)\n",
    "\n",
    "            # Forward pass\n",
    "            outputs = model(images)\n",
    "\n",
    "            # Calculate loss\n",
    "            loss = loss_fn(outputs, labels)\n",
    "            test_loss += loss.item()\n",
    "\n",
    "            # Calculate the accuracy\n",
    "            _, preds = torch.max(outputs, 1)\n",
    "            correct_predictions += torch.sum(preds == labels.data).item()\n",
    "            total_predictions += len(preds)\n",
    "\n",
    "            # Collect predictions and labels for metrics\n",
    "            all_preds.extend(preds.cpu().numpy())\n",
    "            all_labels.extend(labels.cpu().numpy())\n",
    "\n",
    "    # Calculate the average loss and accuracy\n",
    "    test_loss /= len(dataloader)\n",
    "    test_accuracy = correct_predictions / total_predictions\n",
    "\n",
    "    # Calculate precision, recall, and F1 score\n",
    "    test_precision = precision_score(all_labels, all_preds, average='macro')\n",
    "    test_recall = recall_score(all_labels, all_preds, average='macro')\n",
    "    test_f1 = f1_score(all_labels, all_preds, average='macro')\n",
    "\n",
    "    return {\n",
    "        'test_loss': test_loss,\n",
    "        'test_accuracy': test_accuracy,\n",
    "        'test_precision': test_precision,\n",
    "        'test_recall': test_recall,\n",
    "        'test_f1': test_f1\n",
    "    }"
   ]
  },
  {
   "cell_type": "code",
   "execution_count": null,
   "metadata": {},
   "outputs": [
    {
     "ename": "",
     "evalue": "",
     "output_type": "error",
     "traceback": [
      "\u001b[1;31mnotebook controller is DISPOSED. \n",
      "\u001b[1;31mConsulte o <a href='command:jupyter.viewOutput'>log</a> do Jupyter para obter mais detalhes."
     ]
    }
   ],
   "source": [
    "def training(model: nn.Module,\n",
    "             train_loader: DataLoader,\n",
    "             test_loader: DataLoader,\n",
    "             loss_fn: nn.Module,\n",
    "             optimizer: optim.Optimizer,\n",
    "             device: torch.device,\n",
    "             num_epochs: int) -> Dict[str, float]:\n",
    "    history = {\n",
    "        'train_loss': [],\n",
    "        'train_accuracy': [],\n",
    "        'train_precision': [],\n",
    "        'train_recall': [],\n",
    "        'train_f1': [],\n",
    "        'test_loss': [],\n",
    "        'test_accuracy': [],\n",
    "        'test_precision': [],\n",
    "        'test_recall': [],\n",
    "        'test_f1': []\n",
    "    }\n",
    "\n",
    "    for epoch in tqdm(range(num_epochs)):\n",
    "        train_results = train_step(model, train_loader, loss_fn, optimizer, device)\n",
    "        test_results = testing_step(model, test_loader, loss_fn, device)\n",
    "        \n",
    "        history['train_loss'].append(train_results['train_loss'])\n",
    "        history['train_accuracy'].append(train_results['train_accuracy'])\n",
    "        history['train_precision'].append(train_results['train_precision'])\n",
    "        history['train_recall'].append(train_results['train_recall'])\n",
    "        history['train_f1'].append(train_results['train_f1'])\n",
    "        \n",
    "        history['test_loss'].append(test_results['test_loss'])\n",
    "        history['test_accuracy'].append(test_results['test_accuracy'])\n",
    "        history['test_precision'].append(test_results['test_precision'])\n",
    "        history['test_recall'].append(test_results['test_recall'])\n",
    "        history['test_f1'].append(test_results['test_f1'])\n",
    "        \n",
    "        print(f'Epoch {epoch + 1}/{num_epochs}')\n",
    "        print('-' * 20)\n",
    "        print(f\"\"\"\n",
    "              Train Loss: {train_results['train_loss']:.4f}, \n",
    "              Train Accuracy: {train_results['train_accuracy']:.4f},\n",
    "              Train Precision: {train_results['train_precision']:.4f}, \n",
    "              Train Recall: {train_results['train_recall']:.4f}, \n",
    "              Train F1: {train_results['train_f1']:.4f}\n",
    "          \"\"\")\n",
    "        print(f\"\"\"\n",
    "              Test Loss: {test_results['test_loss']:.4f}, \n",
    "              Test Accuracy: {test_results['test_accuracy']:.4f}, \n",
    "              Test Precision: {test_results['test_precision']:.4f}, \n",
    "              Test Recall: {test_results['test_recall']:.4f}, \n",
    "              Test F1: {test_results['test_f1']:.4f}\n",
    "          \"\"\")\n",
    "        print()\n",
    "\n",
    "    return history"
   ]
  },
  {
   "cell_type": "code",
   "execution_count": null,
   "metadata": {},
   "outputs": [
    {
     "name": "stdout",
     "output_type": "stream",
     "text": [
      "torch.Size([32, 3, 256, 256])\n"
     ]
    },
    {
     "ename": "",
     "evalue": "",
     "output_type": "error",
     "traceback": [
      "\u001b[1;31mnotebook controller is DISPOSED. \n",
      "\u001b[1;31mConsulte o <a href='command:jupyter.viewOutput'>log</a> do Jupyter para obter mais detalhes."
     ]
    }
   ],
   "source": [
    "for images, labels in train_loader:\n",
    "    print(images.shape)\n",
    "    break\n"
   ]
  },
  {
   "cell_type": "code",
   "execution_count": null,
   "metadata": {},
   "outputs": [
    {
     "name": "stderr",
     "output_type": "stream",
     "text": [
      "  0%|                                           | 0/30 [00:00<?, ?it/s]"
     ]
    },
    {
     "name": "stderr",
     "output_type": "stream",
     "text": [
      "  3%|█▏                                 | 1/30 [00:58<28:21, 58.66s/it]"
     ]
    },
    {
     "name": "stdout",
     "output_type": "stream",
     "text": [
      "Epoch 1/30\n",
      "--------------------\n",
      "\n",
      "              Train Loss: 1.2721, \n",
      "              Train Accuracy: 0.4853,\n",
      "              Train Precision: 0.4795, \n",
      "              Train Recall: 0.2934, \n",
      "              Train F1: 0.2781\n",
      "          \n",
      "\n",
      "              Test Loss: 1.1022, \n",
      "              Test Accuracy: 0.5039, \n",
      "              Test Precision: 0.4418, \n",
      "              Test Recall: 0.4071, \n",
      "              Test F1: 0.3968\n",
      "          \n",
      "\n"
     ]
    },
    {
     "name": "stderr",
     "output_type": "stream",
     "text": [
      "  7%|██▎                                | 2/30 [01:57<27:23, 58.69s/it]"
     ]
    },
    {
     "name": "stdout",
     "output_type": "stream",
     "text": [
      "Epoch 2/30\n",
      "--------------------\n",
      "\n",
      "              Train Loss: 1.0375, \n",
      "              Train Accuracy: 0.5782,\n",
      "              Train Precision: 0.5340, \n",
      "              Train Recall: 0.4893, \n",
      "              Train F1: 0.5033\n",
      "          \n",
      "\n",
      "              Test Loss: 1.0146, \n",
      "              Test Accuracy: 0.5709, \n",
      "              Test Precision: 0.5644, \n",
      "              Test Recall: 0.5043, \n",
      "              Test F1: 0.4707\n",
      "          \n",
      "\n"
     ]
    },
    {
     "name": "stderr",
     "output_type": "stream",
     "text": [
      " 10%|███▌                               | 3/30 [02:55<26:21, 58.56s/it]"
     ]
    },
    {
     "name": "stdout",
     "output_type": "stream",
     "text": [
      "Epoch 3/30\n",
      "--------------------\n",
      "\n",
      "              Train Loss: 0.9396, \n",
      "              Train Accuracy: 0.6175,\n",
      "              Train Precision: 0.5928, \n",
      "              Train Recall: 0.5486, \n",
      "              Train F1: 0.5618\n",
      "          \n",
      "\n",
      "              Test Loss: 0.9811, \n",
      "              Test Accuracy: 0.5965, \n",
      "              Test Precision: 0.5664, \n",
      "              Test Recall: 0.5470, \n",
      "              Test F1: 0.5040\n",
      "          \n",
      "\n"
     ]
    },
    {
     "name": "stderr",
     "output_type": "stream",
     "text": [
      " 13%|████▋                              | 4/30 [03:54<25:20, 58.49s/it]"
     ]
    },
    {
     "name": "stdout",
     "output_type": "stream",
     "text": [
      "Epoch 4/30\n",
      "--------------------\n",
      "\n",
      "              Train Loss: 0.8406, \n",
      "              Train Accuracy: 0.6662,\n",
      "              Train Precision: 0.6462, \n",
      "              Train Recall: 0.6146, \n",
      "              Train F1: 0.6265\n",
      "          \n",
      "\n",
      "              Test Loss: 0.9242, \n",
      "              Test Accuracy: 0.6417, \n",
      "              Test Precision: 0.6148, \n",
      "              Test Recall: 0.6054, \n",
      "              Test F1: 0.5966\n",
      "          \n",
      "\n"
     ]
    },
    {
     "name": "stderr",
     "output_type": "stream",
     "text": [
      " 17%|█████▊                             | 5/30 [04:52<24:21, 58.44s/it]"
     ]
    },
    {
     "name": "stdout",
     "output_type": "stream",
     "text": [
      "Epoch 5/30\n",
      "--------------------\n",
      "\n",
      "              Train Loss: 0.7806, \n",
      "              Train Accuracy: 0.6786,\n",
      "              Train Precision: 0.6710, \n",
      "              Train Recall: 0.6288, \n",
      "              Train F1: 0.6451\n",
      "          \n",
      "\n",
      "              Test Loss: 1.0559, \n",
      "              Test Accuracy: 0.5925, \n",
      "              Test Precision: 0.5787, \n",
      "              Test Recall: 0.6070, \n",
      "              Test F1: 0.5710\n",
      "          \n",
      "\n"
     ]
    },
    {
     "name": "stderr",
     "output_type": "stream",
     "text": [
      " 20%|███████                            | 6/30 [05:52<23:33, 58.90s/it]"
     ]
    },
    {
     "name": "stdout",
     "output_type": "stream",
     "text": [
      "Epoch 6/30\n",
      "--------------------\n",
      "\n",
      "              Train Loss: 0.7511, \n",
      "              Train Accuracy: 0.6990,\n",
      "              Train Precision: 0.6919, \n",
      "              Train Recall: 0.6612, \n",
      "              Train F1: 0.6733\n",
      "          \n",
      "\n",
      "              Test Loss: 0.9166, \n",
      "              Test Accuracy: 0.6555, \n",
      "              Test Precision: 0.6222, \n",
      "              Test Recall: 0.6289, \n",
      "              Test F1: 0.6164\n",
      "          \n",
      "\n"
     ]
    },
    {
     "name": "stderr",
     "output_type": "stream",
     "text": [
      " 23%|████████▏                          | 7/30 [06:51<22:33, 58.83s/it]"
     ]
    },
    {
     "name": "stdout",
     "output_type": "stream",
     "text": [
      "Epoch 7/30\n",
      "--------------------\n",
      "\n",
      "              Train Loss: 0.7147, \n",
      "              Train Accuracy: 0.7203,\n",
      "              Train Precision: 0.7069, \n",
      "              Train Recall: 0.6816, \n",
      "              Train F1: 0.6925\n",
      "          \n",
      "\n",
      "              Test Loss: 0.9302, \n",
      "              Test Accuracy: 0.6339, \n",
      "              Test Precision: 0.6210, \n",
      "              Test Recall: 0.6036, \n",
      "              Test F1: 0.5957\n",
      "          \n",
      "\n"
     ]
    },
    {
     "name": "stderr",
     "output_type": "stream",
     "text": [
      " 27%|█████████▎                         | 8/30 [07:49<21:33, 58.80s/it]"
     ]
    },
    {
     "name": "stdout",
     "output_type": "stream",
     "text": [
      "Epoch 8/30\n",
      "--------------------\n",
      "\n",
      "              Train Loss: 0.6538, \n",
      "              Train Accuracy: 0.7466,\n",
      "              Train Precision: 0.7453, \n",
      "              Train Recall: 0.7119, \n",
      "              Train F1: 0.7269\n",
      "          \n",
      "\n",
      "              Test Loss: 0.8698, \n",
      "              Test Accuracy: 0.6575, \n",
      "              Test Precision: 0.6250, \n",
      "              Test Recall: 0.6239, \n",
      "              Test F1: 0.6173\n",
      "          \n",
      "\n"
     ]
    },
    {
     "name": "stderr",
     "output_type": "stream",
     "text": [
      " 30%|██████████▌                        | 9/30 [08:48<20:32, 58.69s/it]"
     ]
    },
    {
     "name": "stdout",
     "output_type": "stream",
     "text": [
      "Epoch 9/30\n",
      "--------------------\n",
      "\n",
      "              Train Loss: 0.6052, \n",
      "              Train Accuracy: 0.7615,\n",
      "              Train Precision: 0.7626, \n",
      "              Train Recall: 0.7260, \n",
      "              Train F1: 0.7414\n",
      "          \n",
      "\n",
      "              Test Loss: 0.9531, \n",
      "              Test Accuracy: 0.6476, \n",
      "              Test Precision: 0.6268, \n",
      "              Test Recall: 0.6426, \n",
      "              Test F1: 0.6244\n",
      "          \n",
      "\n"
     ]
    },
    {
     "name": "stderr",
     "output_type": "stream",
     "text": [
      " 33%|███████████▎                      | 10/30 [09:46<19:32, 58.64s/it]"
     ]
    },
    {
     "name": "stdout",
     "output_type": "stream",
     "text": [
      "Epoch 10/30\n",
      "--------------------\n",
      "\n",
      "              Train Loss: 0.5775, \n",
      "              Train Accuracy: 0.7809,\n",
      "              Train Precision: 0.7780, \n",
      "              Train Recall: 0.7537, \n",
      "              Train F1: 0.7651\n",
      "          \n",
      "\n",
      "              Test Loss: 0.9039, \n",
      "              Test Accuracy: 0.6634, \n",
      "              Test Precision: 0.6331, \n",
      "              Test Recall: 0.6219, \n",
      "              Test F1: 0.6233\n",
      "          \n",
      "\n"
     ]
    },
    {
     "name": "stderr",
     "output_type": "stream",
     "text": [
      " 37%|████████████▍                     | 11/30 [10:45<18:34, 58.67s/it]"
     ]
    },
    {
     "name": "stdout",
     "output_type": "stream",
     "text": [
      "Epoch 11/30\n",
      "--------------------\n",
      "\n",
      "              Train Loss: 0.5332, \n",
      "              Train Accuracy: 0.7973,\n",
      "              Train Precision: 0.7948, \n",
      "              Train Recall: 0.7814, \n",
      "              Train F1: 0.7873\n",
      "          \n",
      "\n",
      "              Test Loss: 0.9316, \n",
      "              Test Accuracy: 0.6417, \n",
      "              Test Precision: 0.6130, \n",
      "              Test Recall: 0.5789, \n",
      "              Test F1: 0.5869\n",
      "          \n",
      "\n"
     ]
    },
    {
     "name": "stderr",
     "output_type": "stream",
     "text": [
      " 40%|█████████████▌                    | 12/30 [11:44<17:36, 58.68s/it]"
     ]
    },
    {
     "name": "stdout",
     "output_type": "stream",
     "text": [
      "Epoch 12/30\n",
      "--------------------\n",
      "\n",
      "              Train Loss: 0.5163, \n",
      "              Train Accuracy: 0.8082,\n",
      "              Train Precision: 0.8118, \n",
      "              Train Recall: 0.7848, \n",
      "              Train F1: 0.7971\n",
      "          \n",
      "\n",
      "              Test Loss: 0.9473, \n",
      "              Test Accuracy: 0.6496, \n",
      "              Test Precision: 0.6269, \n",
      "              Test Recall: 0.6227, \n",
      "              Test F1: 0.6220\n",
      "          \n",
      "\n"
     ]
    },
    {
     "name": "stderr",
     "output_type": "stream",
     "text": [
      " 43%|██████████████▋                   | 13/30 [12:42<16:36, 58.60s/it]"
     ]
    },
    {
     "name": "stdout",
     "output_type": "stream",
     "text": [
      "Epoch 13/30\n",
      "--------------------\n",
      "\n",
      "              Train Loss: 0.4766, \n",
      "              Train Accuracy: 0.8197,\n",
      "              Train Precision: 0.8212, \n",
      "              Train Recall: 0.8016, \n",
      "              Train F1: 0.8109\n",
      "          \n",
      "\n",
      "              Test Loss: 1.0335, \n",
      "              Test Accuracy: 0.6476, \n",
      "              Test Precision: 0.6228, \n",
      "              Test Recall: 0.6015, \n",
      "              Test F1: 0.5953\n",
      "          \n",
      "\n"
     ]
    },
    {
     "name": "stderr",
     "output_type": "stream",
     "text": [
      " 47%|███████████████▊                  | 14/30 [13:41<15:36, 58.55s/it]"
     ]
    },
    {
     "name": "stdout",
     "output_type": "stream",
     "text": [
      "Epoch 14/30\n",
      "--------------------\n",
      "\n",
      "              Train Loss: 0.4366, \n",
      "              Train Accuracy: 0.8286,\n",
      "              Train Precision: 0.8298, \n",
      "              Train Recall: 0.8072, \n",
      "              Train F1: 0.8178\n",
      "          \n",
      "\n",
      "              Test Loss: 1.1080, \n",
      "              Test Accuracy: 0.6417, \n",
      "              Test Precision: 0.6206, \n",
      "              Test Recall: 0.6186, \n",
      "              Test F1: 0.6094\n",
      "          \n",
      "\n"
     ]
    },
    {
     "name": "stderr",
     "output_type": "stream",
     "text": [
      " 50%|█████████████████                 | 15/30 [14:39<14:38, 58.57s/it]"
     ]
    },
    {
     "name": "stdout",
     "output_type": "stream",
     "text": [
      "Epoch 15/30\n",
      "--------------------\n",
      "\n",
      "              Train Loss: 0.4130, \n",
      "              Train Accuracy: 0.8395,\n",
      "              Train Precision: 0.8339, \n",
      "              Train Recall: 0.8254, \n",
      "              Train F1: 0.8294\n",
      "          \n",
      "\n",
      "              Test Loss: 1.0396, \n",
      "              Test Accuracy: 0.6516, \n",
      "              Test Precision: 0.6145, \n",
      "              Test Recall: 0.6343, \n",
      "              Test F1: 0.6204\n",
      "          \n",
      "\n"
     ]
    },
    {
     "name": "stderr",
     "output_type": "stream",
     "text": [
      " 53%|██████████████████▏               | 16/30 [15:38<13:39, 58.56s/it]"
     ]
    },
    {
     "name": "stdout",
     "output_type": "stream",
     "text": [
      "Epoch 16/30\n",
      "--------------------\n",
      "\n",
      "              Train Loss: 0.4082, \n",
      "              Train Accuracy: 0.8510,\n",
      "              Train Precision: 0.8560, \n",
      "              Train Recall: 0.8365, \n",
      "              Train F1: 0.8457\n",
      "          \n",
      "\n",
      "              Test Loss: 1.0567, \n",
      "              Test Accuracy: 0.6476, \n",
      "              Test Precision: 0.6204, \n",
      "              Test Recall: 0.5942, \n",
      "              Test F1: 0.5988\n",
      "          \n",
      "\n"
     ]
    },
    {
     "name": "stderr",
     "output_type": "stream",
     "text": [
      " 57%|███████████████████▎              | 17/30 [16:36<12:41, 58.54s/it]"
     ]
    },
    {
     "name": "stdout",
     "output_type": "stream",
     "text": [
      "Epoch 17/30\n",
      "--------------------\n",
      "\n",
      "              Train Loss: 0.3558, \n",
      "              Train Accuracy: 0.8609,\n",
      "              Train Precision: 0.8597, \n",
      "              Train Recall: 0.8476, \n",
      "              Train F1: 0.8534\n",
      "          \n",
      "\n",
      "              Test Loss: 1.0783, \n",
      "              Test Accuracy: 0.6496, \n",
      "              Test Precision: 0.6219, \n",
      "              Test Recall: 0.6405, \n",
      "              Test F1: 0.6275\n",
      "          \n",
      "\n"
     ]
    },
    {
     "name": "stderr",
     "output_type": "stream",
     "text": [
      " 60%|████████████████████▍             | 18/30 [17:35<11:42, 58.55s/it]"
     ]
    },
    {
     "name": "stdout",
     "output_type": "stream",
     "text": [
      "Epoch 18/30\n",
      "--------------------\n",
      "\n",
      "              Train Loss: 0.3475, \n",
      "              Train Accuracy: 0.8713,\n",
      "              Train Precision: 0.8711, \n",
      "              Train Recall: 0.8626, \n",
      "              Train F1: 0.8668\n",
      "          \n",
      "\n",
      "              Test Loss: 1.1706, \n",
      "              Test Accuracy: 0.6654, \n",
      "              Test Precision: 0.6352, \n",
      "              Test Recall: 0.6307, \n",
      "              Test F1: 0.6305\n",
      "          \n",
      "\n"
     ]
    },
    {
     "name": "stderr",
     "output_type": "stream",
     "text": [
      " 63%|█████████████████████▌            | 19/30 [18:33<10:43, 58.47s/it]"
     ]
    },
    {
     "name": "stdout",
     "output_type": "stream",
     "text": [
      "Epoch 19/30\n",
      "--------------------\n",
      "\n",
      "              Train Loss: 0.3465, \n",
      "              Train Accuracy: 0.8793,\n",
      "              Train Precision: 0.8815, \n",
      "              Train Recall: 0.8642, \n",
      "              Train F1: 0.8724\n",
      "          \n",
      "\n",
      "              Test Loss: 1.1972, \n",
      "              Test Accuracy: 0.6535, \n",
      "              Test Precision: 0.6298, \n",
      "              Test Recall: 0.6349, \n",
      "              Test F1: 0.6250\n",
      "          \n",
      "\n"
     ]
    },
    {
     "name": "stderr",
     "output_type": "stream",
     "text": [
      " 67%|██████████████████████▋           | 20/30 [19:32<09:45, 58.56s/it]"
     ]
    },
    {
     "name": "stdout",
     "output_type": "stream",
     "text": [
      "Epoch 20/30\n",
      "--------------------\n",
      "\n",
      "              Train Loss: 0.2954, \n",
      "              Train Accuracy: 0.8892,\n",
      "              Train Precision: 0.8927, \n",
      "              Train Recall: 0.8817, \n",
      "              Train F1: 0.8870\n",
      "          \n",
      "\n",
      "              Test Loss: 1.1745, \n",
      "              Test Accuracy: 0.6339, \n",
      "              Test Precision: 0.6045, \n",
      "              Test Recall: 0.5869, \n",
      "              Test F1: 0.5914\n",
      "          \n",
      "\n"
     ]
    },
    {
     "name": "stderr",
     "output_type": "stream",
     "text": [
      " 70%|███████████████████████▊          | 21/30 [20:30<08:46, 58.55s/it]"
     ]
    },
    {
     "name": "stdout",
     "output_type": "stream",
     "text": [
      "Epoch 21/30\n",
      "--------------------\n",
      "\n",
      "              Train Loss: 0.3055, \n",
      "              Train Accuracy: 0.8783,\n",
      "              Train Precision: 0.8827, \n",
      "              Train Recall: 0.8741, \n",
      "              Train F1: 0.8783\n",
      "          \n",
      "\n",
      "              Test Loss: 1.1682, \n",
      "              Test Accuracy: 0.6339, \n",
      "              Test Precision: 0.5984, \n",
      "              Test Recall: 0.5939, \n",
      "              Test F1: 0.5868\n",
      "          \n",
      "\n"
     ]
    },
    {
     "name": "stderr",
     "output_type": "stream",
     "text": [
      " 73%|████████████████████████▉         | 22/30 [21:29<07:48, 58.56s/it]"
     ]
    },
    {
     "name": "stdout",
     "output_type": "stream",
     "text": [
      "Epoch 22/30\n",
      "--------------------\n",
      "\n",
      "              Train Loss: 0.2795, \n",
      "              Train Accuracy: 0.9006,\n",
      "              Train Precision: 0.8980, \n",
      "              Train Recall: 0.8922, \n",
      "              Train F1: 0.8950\n",
      "          \n",
      "\n",
      "              Test Loss: 1.1609, \n",
      "              Test Accuracy: 0.6811, \n",
      "              Test Precision: 0.6449, \n",
      "              Test Recall: 0.6591, \n",
      "              Test F1: 0.6497\n",
      "          \n",
      "\n"
     ]
    },
    {
     "name": "stderr",
     "output_type": "stream",
     "text": [
      " 77%|██████████████████████████        | 23/30 [22:28<06:50, 58.66s/it]"
     ]
    },
    {
     "name": "stdout",
     "output_type": "stream",
     "text": [
      "Epoch 23/30\n",
      "--------------------\n",
      "\n",
      "              Train Loss: 0.2845, \n",
      "              Train Accuracy: 0.8992,\n",
      "              Train Precision: 0.8974, \n",
      "              Train Recall: 0.8895, \n",
      "              Train F1: 0.8934\n",
      "          \n",
      "\n",
      "              Test Loss: 1.2294, \n",
      "              Test Accuracy: 0.6693, \n",
      "              Test Precision: 0.6458, \n",
      "              Test Recall: 0.6337, \n",
      "              Test F1: 0.6304\n",
      "          \n",
      "\n"
     ]
    },
    {
     "name": "stderr",
     "output_type": "stream",
     "text": [
      " 80%|███████████████████████████▏      | 24/30 [23:27<05:52, 58.69s/it]"
     ]
    },
    {
     "name": "stdout",
     "output_type": "stream",
     "text": [
      "Epoch 24/30\n",
      "--------------------\n",
      "\n",
      "              Train Loss: 0.2472, \n",
      "              Train Accuracy: 0.9136,\n",
      "              Train Precision: 0.9143, \n",
      "              Train Recall: 0.9070, \n",
      "              Train F1: 0.9106\n",
      "          \n",
      "\n",
      "              Test Loss: 1.3031, \n",
      "              Test Accuracy: 0.6476, \n",
      "              Test Precision: 0.6157, \n",
      "              Test Recall: 0.6292, \n",
      "              Test F1: 0.6167\n",
      "          \n",
      "\n"
     ]
    },
    {
     "name": "stderr",
     "output_type": "stream",
     "text": [
      " 83%|████████████████████████████▎     | 25/30 [24:25<04:53, 58.64s/it]"
     ]
    },
    {
     "name": "stdout",
     "output_type": "stream",
     "text": [
      "Epoch 25/30\n",
      "--------------------\n",
      "\n",
      "              Train Loss: 0.2401, \n",
      "              Train Accuracy: 0.9111,\n",
      "              Train Precision: 0.9094, \n",
      "              Train Recall: 0.9040, \n",
      "              Train F1: 0.9066\n",
      "          \n",
      "\n",
      "              Test Loss: 1.2274, \n",
      "              Test Accuracy: 0.6594, \n",
      "              Test Precision: 0.6248, \n",
      "              Test Recall: 0.6475, \n",
      "              Test F1: 0.6319\n",
      "          \n",
      "\n"
     ]
    },
    {
     "name": "stderr",
     "output_type": "stream",
     "text": [
      " 87%|█████████████████████████████▍    | 26/30 [25:24<03:54, 58.63s/it]"
     ]
    },
    {
     "name": "stdout",
     "output_type": "stream",
     "text": [
      "Epoch 26/30\n",
      "--------------------\n",
      "\n",
      "              Train Loss: 0.2236, \n",
      "              Train Accuracy: 0.9180,\n",
      "              Train Precision: 0.9135, \n",
      "              Train Recall: 0.9094, \n",
      "              Train F1: 0.9114\n",
      "          \n",
      "\n",
      "              Test Loss: 1.2489, \n",
      "              Test Accuracy: 0.6634, \n",
      "              Test Precision: 0.6417, \n",
      "              Test Recall: 0.6207, \n",
      "              Test F1: 0.6289\n",
      "          \n",
      "\n"
     ]
    },
    {
     "name": "stderr",
     "output_type": "stream",
     "text": [
      " 90%|██████████████████████████████▌   | 27/30 [26:22<02:55, 58.55s/it]"
     ]
    },
    {
     "name": "stdout",
     "output_type": "stream",
     "text": [
      "Epoch 27/30\n",
      "--------------------\n",
      "\n",
      "              Train Loss: 0.2423, \n",
      "              Train Accuracy: 0.9076,\n",
      "              Train Precision: 0.9039, \n",
      "              Train Recall: 0.8949, \n",
      "              Train F1: 0.8992\n",
      "          \n",
      "\n",
      "              Test Loss: 1.2016, \n",
      "              Test Accuracy: 0.6555, \n",
      "              Test Precision: 0.6304, \n",
      "              Test Recall: 0.6215, \n",
      "              Test F1: 0.6242\n",
      "          \n",
      "\n"
     ]
    },
    {
     "name": "stderr",
     "output_type": "stream",
     "text": [
      " 93%|███████████████████████████████▋  | 28/30 [27:21<01:57, 58.57s/it]"
     ]
    },
    {
     "name": "stdout",
     "output_type": "stream",
     "text": [
      "Epoch 28/30\n",
      "--------------------\n",
      "\n",
      "              Train Loss: 0.2131, \n",
      "              Train Accuracy: 0.9250,\n",
      "              Train Precision: 0.9288, \n",
      "              Train Recall: 0.9192, \n",
      "              Train F1: 0.9238\n",
      "          \n",
      "\n",
      "              Test Loss: 1.2655, \n",
      "              Test Accuracy: 0.6476, \n",
      "              Test Precision: 0.6262, \n",
      "              Test Recall: 0.6157, \n",
      "              Test F1: 0.6180\n",
      "          \n",
      "\n"
     ]
    },
    {
     "name": "stderr",
     "output_type": "stream",
     "text": [
      " 97%|████████████████████████████████▊ | 29/30 [28:19<00:58, 58.55s/it]"
     ]
    },
    {
     "name": "stdout",
     "output_type": "stream",
     "text": [
      "Epoch 29/30\n",
      "--------------------\n",
      "\n",
      "              Train Loss: 0.2147, \n",
      "              Train Accuracy: 0.9220,\n",
      "              Train Precision: 0.9214, \n",
      "              Train Recall: 0.9179, \n",
      "              Train F1: 0.9196\n",
      "          \n",
      "\n",
      "              Test Loss: 1.2921, \n",
      "              Test Accuracy: 0.6654, \n",
      "              Test Precision: 0.6380, \n",
      "              Test Recall: 0.6388, \n",
      "              Test F1: 0.6336\n",
      "          \n",
      "\n"
     ]
    },
    {
     "name": "stderr",
     "output_type": "stream",
     "text": [
      "100%|██████████████████████████████████| 30/30 [29:18<00:00, 58.60s/it]"
     ]
    },
    {
     "name": "stdout",
     "output_type": "stream",
     "text": [
      "Epoch 30/30\n",
      "--------------------\n",
      "\n",
      "              Train Loss: 0.1997, \n",
      "              Train Accuracy: 0.9275,\n",
      "              Train Precision: 0.9298, \n",
      "              Train Recall: 0.9239, \n",
      "              Train F1: 0.9268\n",
      "          \n",
      "\n",
      "              Test Loss: 1.3338, \n",
      "              Test Accuracy: 0.6594, \n",
      "              Test Precision: 0.6420, \n",
      "              Test Recall: 0.6371, \n",
      "              Test F1: 0.6354\n",
      "          \n",
      "\n",
      "Total training time: 29m 18s\n",
      "Training results:  {'train_loss': [1.2721031175719366, 1.0375000806081862, 0.9396239452891879, 0.8405508238171774, 0.7805827042413136, 0.7511007374241239, 0.7147252786727178, 0.6538362361135936, 0.6052150586767803, 0.5775153438250223, 0.5332134988099809, 0.5163277699833825, 0.47660956259757753, 0.43661996059947544, 0.41301782618439387, 0.4081512632824126, 0.3557768501932659, 0.34747889590641806, 0.34650809471569366, 0.2953567038925867, 0.30552564348493305, 0.2794841167236131, 0.28449358850244494, 0.24717326675142562, 0.24009069244539927, 0.22363484579892384, 0.24234203580352995, 0.21314095114431683, 0.21473512295929212, 0.19973465090706236], 'train_accuracy': [0.4853452558370591, 0.5782414307004471, 0.6174863387978142, 0.6661698956780924, 0.678589170392449, 0.698956780923994, 0.7203179334326876, 0.7466467958271237, 0.7615499254843517, 0.7809239940387481, 0.797317436661699, 0.8082463984103329, 0.819672131147541, 0.8286140089418778, 0.8395429706905116, 0.8509687034277198, 0.8609041231992052, 0.8713363139592648, 0.879284649776453, 0.8892200695479384, 0.8782911077993045, 0.9006458022851466, 0.8991554893194238, 0.9135618479880775, 0.9110779930452062, 0.9180327868852459, 0.9076005961251863, 0.9249875807252856, 0.9220069547938401, 0.9274714356681569], 'train_precision': [0.4794533667723161, 0.5339580558885725, 0.5928212634903912, 0.6461592875085757, 0.6710471598268957, 0.6918940729544717, 0.7068755612146893, 0.7452830929364227, 0.7626259715261519, 0.7780247607431237, 0.794759044979789, 0.8118348370021978, 0.8211569556301692, 0.8297699396317837, 0.8338876229847079, 0.8560421733130777, 0.8597090609779835, 0.8711044295238839, 0.8814983208761822, 0.8926824557384112, 0.882701640520793, 0.8979847567670799, 0.8974311677039506, 0.9142962072248124, 0.9093715845523127, 0.9134604539045774, 0.9038569670676786, 0.9287612006488978, 0.9214140266922888, 0.9298255934093793], 'train_recall': [0.29340162624501404, 0.4893418578122497, 0.5485992418406507, 0.6145941106697416, 0.6288060326679672, 0.6612455832328137, 0.6815935123816712, 0.7118639388200585, 0.7260179861024325, 0.753711828890148, 0.7814120898605523, 0.7848413796176859, 0.801643103232195, 0.8071642192669947, 0.8253507737551253, 0.8364901100082511, 0.847571919040997, 0.8626353191839218, 0.8642228567441137, 0.8817218795663578, 0.8740875376638255, 0.8921994323745353, 0.8895376652605658, 0.9070354066065747, 0.903978817292645, 0.9094084701628932, 0.8948514675942917, 0.9191691321042039, 0.9179035880819629, 0.9239380971001925], 'train_f1': [0.27811197402316795, 0.5033081204509776, 0.5617560184724535, 0.6265283208514807, 0.6450549080060439, 0.6732748626703036, 0.6925419314265766, 0.726853828147721, 0.7414308654079202, 0.7650567951137974, 0.7873447799091664, 0.7971058203536917, 0.8109017906388443, 0.8178323701227068, 0.8294014517097075, 0.8457371435930167, 0.8533859095288072, 0.8667528822096905, 0.8724228363027764, 0.8870070366590159, 0.8782918877799644, 0.89499299659376, 0.8933563102456514, 0.9105688042801768, 0.9066202294942608, 0.9113700190672471, 0.8992415640772823, 0.9237992476588979, 0.9195503560823088, 0.9268112002268525], 'test_loss': [1.102216724306345, 1.0146137848496437, 0.9810755960643291, 0.9242364056408405, 1.0559496404603124, 0.9165521021932364, 0.9301732629537582, 0.8698464818298817, 0.9531456306576729, 0.9038639217615128, 0.9315751772373915, 0.9473159480839968, 1.0335439182817936, 1.1079975012689829, 1.0395798180252314, 1.0567108150571585, 1.0782595165073872, 1.170551858842373, 1.197249112650752, 1.1744742263108492, 1.168233571574092, 1.1609018854796886, 1.2293827421963215, 1.303108086809516, 1.2273978032171726, 1.2488902173936367, 1.2016430087387562, 1.2655217163264751, 1.292131146416068, 1.3337762039154768], 'test_accuracy': [0.5039370078740157, 0.5708661417322834, 0.5964566929133859, 0.6417322834645669, 0.59251968503937, 0.655511811023622, 0.6338582677165354, 0.65748031496063, 0.6476377952755905, 0.6633858267716536, 0.6417322834645669, 0.6496062992125984, 0.6476377952755905, 0.6417322834645669, 0.6515748031496063, 0.6476377952755905, 0.6496062992125984, 0.6653543307086615, 0.6535433070866141, 0.6338582677165354, 0.6338582677165354, 0.6811023622047244, 0.6692913385826772, 0.6476377952755905, 0.6594488188976378, 0.6633858267716536, 0.655511811023622, 0.6476377952755905, 0.6653543307086615, 0.6594488188976378], 'test_precision': [0.44181341397620477, 0.5643805718998577, 0.5663894248539331, 0.6148267749354706, 0.5787337195447636, 0.6221766014537501, 0.6209947686579083, 0.6250232451574118, 0.6267851206266759, 0.6331423543187285, 0.6130169071462503, 0.6268596888406888, 0.6228357388516751, 0.6205939236401422, 0.6145497345340976, 0.6203583468918467, 0.621879653477146, 0.6352276029055691, 0.6297775670657026, 0.6044941702836439, 0.5983585022638505, 0.6449467676039413, 0.6457637362637362, 0.6157317821846421, 0.6248002572140503, 0.6416781555982802, 0.6304260070163563, 0.6262192933492758, 0.6379679144385026, 0.6420366494105807], 'test_recall': [0.4070908083533052, 0.5043101755214034, 0.5469649825238136, 0.6053864020757125, 0.6069905288157018, 0.6288755698240445, 0.6036213343749873, 0.6239143063303535, 0.64257879203406, 0.6219251541797043, 0.5788722332762323, 0.6227453617238288, 0.6014676809229489, 0.618613454154341, 0.634334229861018, 0.5942061389767106, 0.6404994378052569, 0.6306626302576059, 0.6348538836195847, 0.5868953829502408, 0.5938799710832523, 0.6590809370545336, 0.6337029306011618, 0.6291879439405714, 0.6475082091283065, 0.6207437043004846, 0.6214535277211514, 0.615686230229937, 0.6388394645790185, 0.6370889705393679], 'test_f1': [0.3967947385572654, 0.47073162645046684, 0.5040158339081622, 0.5965673109266015, 0.5709723550056437, 0.6164062223596452, 0.5956701169953893, 0.6173022996625828, 0.6244255233295629, 0.6233223922292351, 0.5869420523222367, 0.6219589042132464, 0.5953352010309387, 0.6094065583182224, 0.6203691102235068, 0.5988250094715454, 0.6274683159105882, 0.6304847673598694, 0.6250088159160082, 0.5913636639373016, 0.5868407940271829, 0.6496663282953605, 0.6304330260871149, 0.6167284288268492, 0.6319276924004658, 0.6289360007441627, 0.6241578667984601, 0.6179894601116156, 0.6335935583249643, 0.6353963169302055]}\n"
     ]
    },
    {
     "name": "stderr",
     "output_type": "stream",
     "text": [
      "\n"
     ]
    },
    {
     "ename": "",
     "evalue": "",
     "output_type": "error",
     "traceback": [
      "\u001b[1;31mnotebook controller is DISPOSED. \n",
      "\u001b[1;31mConsulte o <a href='command:jupyter.viewOutput'>log</a> do Jupyter para obter mais detalhes."
     ]
    }
   ],
   "source": [
    "import torch\n",
    "import torch.nn as nn  # Importa o módulo nn aqui\n",
    "import torch.optim as optim\n",
    "from tqdm import tqdm\n",
    "\n",
    "\n",
    "# Define a função de perda\n",
    "loss_fn = nn.CrossEntropyLoss()\n",
    "\n",
    "# Adiciona isso no começo do código, junto com as outras importações\n",
    "from time import time\n",
    "\n",
    "optimizer = optim.Adam(model.parameters(), lr=0.001)\n",
    "\n",
    "# Training the model\n",
    "NUM_EPOCHS = 30\n",
    "start_time = time()\n",
    "model_results = training(model, train_loader, test_loader, loss_fn, optimizer, device, NUM_EPOCHS)\n",
    "end_time = time()\n",
    "\n",
    "total_time = end_time - start_time\n",
    "print(f'Total training time: {total_time // 60:.0f}m {total_time % 60:.0f}s')\n",
    "print(\"Training results: \", model_results)\n"
   ]
  },
  {
   "cell_type": "code",
   "execution_count": null,
   "metadata": {},
   "outputs": [
    {
     "data": {
      "image/png": "[encoded data removed]",
      "text/plain": [
       "<Figure size 1000x600 with 1 Axes>"
      ]
     },
     "metadata": {},
     "output_type": "display_data"
    },
    {
     "ename": "",
     "evalue": "",
     "output_type": "error",
     "traceback": [
      "\u001b[1;31mnotebook controller is DISPOSED. \n",
      "\u001b[1;31mConsulte o <a href='command:jupyter.viewOutput'>log</a> do Jupyter para obter mais detalhes."
     ]
    }
   ],
   "source": [
    "def plot_loss_curve(history: Dict[str, float]):\n",
    "    plt.figure(figsize=(10, 6))\n",
    "    plt.plot(history['train_loss'], label='Train Loss', marker='o')\n",
    "    plt.plot(history['test_loss'], label='Test Loss', marker='o')\n",
    "    plt.title('Loss Curve')\n",
    "    plt.xlabel('Epoch')\n",
    "    plt.ylabel('Loss')\n",
    "    plt.legend()\n",
    "    plt.grid(True)\n",
    "    plt.show()\n",
    "\n",
    "plot_loss_curve(model_results)\n"
   ]
  },
  {
   "cell_type": "code",
   "execution_count": null,
   "metadata": {},
   "outputs": [
    {
     "ename": "",
     "evalue": "",
     "output_type": "error",
     "traceback": [
      "\u001b[1;31mnotebook controller is DISPOSED. \n",
      "\u001b[1;31mConsulte o <a href='command:jupyter.viewOutput'>log</a> do Jupyter para obter mais detalhes."
     ]
    }
   ],
   "source": [
    "from sklearn.metrics import ConfusionMatrixDisplay\n",
    "\n",
    "def plot_confusion_matrix(model: nn.Module,\n",
    "                          dataloader: DataLoader,\n",
    "                          device: torch.device,\n",
    "                          class_names: list) -> None:\n",
    "    model.eval()\n",
    "    all_preds, all_labels = [], []\n",
    "\n",
    "    with torch.inference_mode():\n",
    "        for images, labels in tqdm(dataloader, desc='Predicting...'):\n",
    "            images, labels = images.to(device), labels.to(device)\n",
    "            outputs = model(images)\n",
    "            _, preds = torch.max(outputs, 1)\n",
    "            all_preds.extend(preds.cpu().numpy())\n",
    "            all_labels.extend(labels.cpu().numpy())\n",
    "\n",
    "    cm = confusion_matrix(all_labels, all_preds, labels=range(len(class_names)))\n",
    "    fig, ax = plt.subplots(figsize=(10, 10))\n",
    "    disp = ConfusionMatrixDisplay(confusion_matrix=cm, display_labels=class_names)\n",
    "    disp.plot(cmap='Blues', ax=ax)\n",
    "    plt.title('Confusion Matrix')\n",
    "    plt.show()"
   ]
  },
  {
   "cell_type": "code",
   "execution_count": null,
   "metadata": {},
   "outputs": [
    {
     "name": "stderr",
     "output_type": "stream",
     "text": [
      "Predicting...: 100%|███████████████████| 16/16 [00:08<00:00,  1.84it/s]\n"
     ]
    },
    {
     "data": {
      "image/png": "[encoded data removed]",
      "text/plain": [
       "<Figure size 1000x1000 with 2 Axes>"
      ]
     },
     "metadata": {},
     "output_type": "display_data"
    },
    {
     "ename": "",
     "evalue": "",
     "output_type": "error",
     "traceback": [
      "\u001b[1;31mnotebook controller is DISPOSED. \n",
      "\u001b[1;31mConsulte o <a href='command:jupyter.viewOutput'>log</a> do Jupyter para obter mais detalhes."
     ]
    }
   ],
   "source": [
    "# Plotting the confusion matrix\n",
    "plot_confusion_matrix(model, test_loader, device, class_names)"
   ]
  }
 ],
 "metadata": {
  "kernelspec": {
   "display_name": "Python 3 (ipykernel)",
   "language": "python",
   "name": "python3"
  }
 },
 "nbformat": 4,
 "nbformat_minor": 2
}
